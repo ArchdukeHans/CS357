{
 "cells": [
  {
   "cell_type": "code",
   "execution_count": 1,
   "metadata": {},
   "outputs": [],
   "source": [
    "import numpy as np\n",
    "import numpy.linalg as la\n",
    "from helper_funcs import generate_genomic_sequences"
   ]
  },
  {
   "cell_type": "markdown",
   "metadata": {},
   "source": [
    "# Genome classification\n",
    "\n",
    "In computational biology, a typical problem is:\n",
    "\n",
    "- given a small strand of DNA, find if that DNA belong to a known mapped organism. \n",
    "\n",
    "DNA is comprised of long chains of base pairs.\n",
    "4 nucleobases make up all of any organism's DNA.\n",
    "These 4 nucleobases are A,T, C, and G.\n",
    "\n",
    "Here is a small example of what a small snippet of a single sequence of DNA could look like:\n",
    "\n",
    "```python\n",
    "genome_seq = 'ATCGATTGAGCTCTAGCG'\n",
    "```\n",
    "\n",
    "Now, supposed we have sequenced some DNA for an unknown organism.\n",
    "```python\n",
    "small_sample = 'ATCG'\n",
    "```\n",
    "\n",
    "Does the small sample of DNA belong to the same organism as the provided genomic sequence?\n",
    "\n",
    "We are going to be using our knowledge of **norms** to answer this question. But first, we need to convert the strand of DNA into an array of numbers:"
   ]
  },
  {
   "cell_type": "markdown",
   "metadata": {},
   "source": [
    "### Write a function to convert a DNA sequence to an array of numbers"
   ]
  },
  {
   "cell_type": "markdown",
   "metadata": {},
   "source": [
    "For this conversion, you are going to make the following assumption:\n",
    "\n",
    "A = 1, T = 2, C = 3, G = 4."
   ]
  },
  {
   "cell_type": "code",
   "execution_count": 11,
   "metadata": {},
   "outputs": [],
   "source": [
    "#grade (enter your code in this cell - DO NOT DELETE THIS LINE) \n",
    "def seq_to_array(dna):\n",
    "    # Converts the string dna into a numpy array\n",
    "    # where each element corresponds to the numeric value of a nucleobase \n",
    "    # dna: string\n",
    "    # numeric_dna: 1d numpy array of type integer\n",
    "    \n",
    "    # complete the function\n",
    "    DNA2Int = {\n",
    "        'A':1,\n",
    "        'T':2,\n",
    "        'C':3,\n",
    "        'G':4\n",
    "    }\n",
    "    numeric_dna = []\n",
    "    for i in dna:\n",
    "        numeric_dna.append(DNA2Int[i])\n",
    "    numeric_dna = np.array(numeric_dna)\n",
    "    return numeric_dna"
   ]
  },
  {
   "cell_type": "markdown",
   "metadata": {},
   "source": [
    "Test your function by using it on the sequence `genome_seq`."
   ]
  },
  {
   "cell_type": "code",
   "execution_count": 12,
   "metadata": {},
   "outputs": [
    {
     "name": "stdout",
     "output_type": "stream",
     "text": [
      "[1 2 3 4 1 2 2 4 1 4 3 2 3 2 1 4 3 4]\n"
     ]
    }
   ],
   "source": [
    "genome_seq = 'ATCGATTGAGCTCTAGCG'\n",
    "genome_numeric = seq_to_array(genome_seq)\n",
    "print(genome_numeric)"
   ]
  },
  {
   "cell_type": "markdown",
   "metadata": {},
   "source": [
    "Now that we have the numpy array, we can use vector norms to determine whether a small sample of DNA belongs to a larger known DNA sequence.\n",
    "\n",
    "Suppose that $v_1$ is a subset of the larger known DNA sequence, and $v_2$ the small unknown sample of DNA.\n",
    "\n",
    "The small unknown sample belongs to the DNA sequence if we can find a $v_1$ such that:\n",
    "\n",
    "$$\n",
    "||v_1-v_2||_1 = 0.\n",
    "$$\n"
   ]
  },
  {
   "cell_type": "markdown",
   "metadata": {},
   "source": [
    "In this example, we are trying to find a match by comparing a DNA sample with the known sequence for a group of animals. We give you the list of animals `animals_list`, the DNA sequence for each animal in the list `animal_dna` and the smaller sample DNA `unknown_dna`."
   ]
  },
  {
   "cell_type": "code",
   "execution_count": 4,
   "metadata": {},
   "outputs": [
    {
     "name": "stdout",
     "output_type": "stream",
     "text": [
      "TTCGTAAGCAATGTAA\n",
      "{'dog': 'ATCTAGTTATCTCTATCTAGATTGATCGAGCTCTCGCATGCGCTCTCGCTAGATTGATCGAGCTCTCGCATGCGCTCTCGATCGATTGAGCTCTAGCCAGCTAGGAACGCAATTCGTAAGCAATGTAACTCGCATGCGCTCTCGCCAGCTAGGAACGCAAATCGATTGAGCTCTAGATCTAGTTATCTCTATATCTAGTTATCTCTATATCTAGTTATCTCTATCTAGATTGATCGAGCTCCAGCTAGGAACGCAA', 'bear': 'ATCTAGTTATCTCTATCTCGCATGCGCTCTCGCCAGCTAGGAACGCAAATCGATTGAGCTCTAGATCTAGTTATCTCTATCTAGATTGATCGAGCTATCGATTGAGCTCTAGATCGATTGAGCTCTAGCTCGCATGCGCTCTCGCTCGCATGCGCTCTCGCTCGCATGCGCTCTCGCTCGCATGCGCTCTCGCTAGATTGATCGAGCTATCGATTGAGCTCTAGATCTAGTTATCTCTATCTAGATTGATCGAGCT', 'giraffe': 'CTCGCATGCGCTCTCGCCAGCTAGGAACGCAAATCGATTGAGCTCTAGCTAGATTGATCGAGCTCTCGCATGCGCTCTCGATCTAGTTATCTCTATATCGATTGAGCTCTAGCTAGATTGATCGAGCTCTAGATTGATCGAGCTCTCGCATGCGCTCTCGATCGATTGAGCTCTAGCCAGCTAGGAACGCAAATCGATTGAGCTCTAGCTCGCATGCGCTCTCGCCAGCTAGGAACGCAAATCGATTGAGCTCTAG', 'tiger': 'ATCGATTGAGCTCTAGATCGATTGAGCTCTAGCTCGCATGCGCTCTCGCCAGCTAGGAACGCAAATCTAGTTATCTCTATATCGATTGAGCTCTAGCCAGCTAGGAACGCAACCAGCTAGGAACGCAACTCGCATGCGCTCTCGCCAGCTAGGAACGCAACCAGCTAGGAACGCAACCAGCTAGGAACGCAAATCTAGTTATCTCTATCTAGATTGATCGAGCTCTAGATTGATCGAGCTATCTAGTTATCTCTAT'}\n"
     ]
    }
   ],
   "source": [
    "# generate inputs for students\n",
    "animals = ['dog', 'bear', 'giraffe', 'tiger']\n",
    "animal_dna, unknown_dna = generate_genomic_sequences(animals)\n",
    "print(unknown_dna)\n",
    "print(animal_dna)"
   ]
  },
  {
   "cell_type": "markdown",
   "metadata": {},
   "source": [
    "Take a look at the code snippet below. It uses the function `find_the_match` that is not yet defined (so you will get an error if you try to run it now!)"
   ]
  },
  {
   "cell_type": "code",
   "execution_count": 14,
   "metadata": {},
   "outputs": [
    {
     "name": "stdout",
     "output_type": "stream",
     "text": [
      "Trying to find a match for  TTCGTAAGCAATGTAA\n"
     ]
    },
    {
     "ename": "KeyError",
     "evalue": "2",
     "output_type": "error",
     "traceback": [
      "\u001b[0;31m---------------------------------------------------------------------------\u001b[0m",
      "\u001b[0;31mKeyError\u001b[0m                                  Traceback (most recent call last)",
      "\u001b[0;32m/tmp/ipykernel_98/2280041547.py\u001b[0m in \u001b[0;36m<module>\u001b[0;34m\u001b[0m\n\u001b[1;32m      7\u001b[0m     \u001b[0mnumeric_sample\u001b[0m \u001b[0;34m=\u001b[0m \u001b[0mseq_to_array\u001b[0m\u001b[0;34m(\u001b[0m\u001b[0munknown_dna\u001b[0m\u001b[0;34m)\u001b[0m\u001b[0;34m\u001b[0m\u001b[0;34m\u001b[0m\u001b[0m\n\u001b[1;32m      8\u001b[0m \u001b[0;34m\u001b[0m\u001b[0m\n\u001b[0;32m----> 9\u001b[0;31m     \u001b[0mpos\u001b[0m \u001b[0;34m=\u001b[0m \u001b[0mfind_the_match\u001b[0m\u001b[0;34m(\u001b[0m\u001b[0mnumeric_sample\u001b[0m\u001b[0;34m,\u001b[0m \u001b[0mnumeric_genome\u001b[0m\u001b[0;34m)\u001b[0m\u001b[0;34m\u001b[0m\u001b[0;34m\u001b[0m\u001b[0m\n\u001b[0m\u001b[1;32m     10\u001b[0m \u001b[0;34m\u001b[0m\u001b[0m\n\u001b[1;32m     11\u001b[0m     \u001b[0;32mif\u001b[0m \u001b[0mpos\u001b[0m \u001b[0;34m>=\u001b[0m \u001b[0;36m0\u001b[0m\u001b[0;34m:\u001b[0m\u001b[0;34m\u001b[0m\u001b[0;34m\u001b[0m\u001b[0m\n",
      "\u001b[0;32m/tmp/ipykernel_98/3487954979.py\u001b[0m in \u001b[0;36mfind_the_match\u001b[0;34m(numeric_sample, numeric_genome)\u001b[0m\n\u001b[1;32m      2\u001b[0m \u001b[0;32mdef\u001b[0m \u001b[0mfind_the_match\u001b[0m\u001b[0;34m(\u001b[0m\u001b[0mnumeric_sample\u001b[0m\u001b[0;34m,\u001b[0m \u001b[0mnumeric_genome\u001b[0m\u001b[0;34m)\u001b[0m\u001b[0;34m:\u001b[0m\u001b[0;34m\u001b[0m\u001b[0;34m\u001b[0m\u001b[0m\n\u001b[1;32m      3\u001b[0m     \u001b[0;32mfor\u001b[0m \u001b[0mi\u001b[0m \u001b[0;32min\u001b[0m \u001b[0mrange\u001b[0m\u001b[0;34m(\u001b[0m\u001b[0mlen\u001b[0m\u001b[0;34m(\u001b[0m\u001b[0mnumeric_genome\u001b[0m\u001b[0;34m)\u001b[0m\u001b[0;34m-\u001b[0m\u001b[0mlen\u001b[0m\u001b[0;34m(\u001b[0m\u001b[0mnumeric_sample\u001b[0m\u001b[0;34m)\u001b[0m\u001b[0;34m+\u001b[0m\u001b[0;36m1\u001b[0m\u001b[0;34m)\u001b[0m\u001b[0;34m:\u001b[0m\u001b[0;34m\u001b[0m\u001b[0;34m\u001b[0m\u001b[0m\n\u001b[0;32m----> 4\u001b[0;31m         \u001b[0mout\u001b[0m \u001b[0;34m=\u001b[0m \u001b[0mseq_to_array\u001b[0m\u001b[0;34m(\u001b[0m\u001b[0mnumeric_sample\u001b[0m\u001b[0;34m)\u001b[0m\u001b[0;34m-\u001b[0m\u001b[0mseq_to_array\u001b[0m\u001b[0;34m(\u001b[0m \u001b[0mnumeric_genome\u001b[0m\u001b[0;34m[\u001b[0m\u001b[0mi\u001b[0m\u001b[0;34m:\u001b[0m\u001b[0mi\u001b[0m\u001b[0;34m+\u001b[0m\u001b[0mlen\u001b[0m\u001b[0;34m(\u001b[0m\u001b[0mnumeric_sample\u001b[0m\u001b[0;34m)\u001b[0m\u001b[0;34m]\u001b[0m\u001b[0;34m)\u001b[0m\u001b[0;34m\u001b[0m\u001b[0;34m\u001b[0m\u001b[0m\n\u001b[0m\u001b[1;32m      5\u001b[0m         \u001b[0;31m#if (numeric_sample == numeric_genome[i:i+len(numeric_sample)]):\u001b[0m\u001b[0;34m\u001b[0m\u001b[0;34m\u001b[0m\u001b[0;34m\u001b[0m\u001b[0m\n\u001b[1;32m      6\u001b[0m         \u001b[0;32mif\u001b[0m \u001b[0mla\u001b[0m\u001b[0;34m.\u001b[0m\u001b[0mnorm\u001b[0m\u001b[0;34m(\u001b[0m\u001b[0mout\u001b[0m\u001b[0;34m,\u001b[0m\u001b[0;36m1\u001b[0m\u001b[0;34m)\u001b[0m\u001b[0;34m==\u001b[0m\u001b[0;36m0\u001b[0m\u001b[0;34m:\u001b[0m\u001b[0;34m\u001b[0m\u001b[0;34m\u001b[0m\u001b[0m\n",
      "\u001b[0;32m/tmp/ipykernel_98/2097134879.py\u001b[0m in \u001b[0;36mseq_to_array\u001b[0;34m(dna)\u001b[0m\n\u001b[1;32m     15\u001b[0m     \u001b[0mnumeric_dna\u001b[0m \u001b[0;34m=\u001b[0m \u001b[0;34m[\u001b[0m\u001b[0;34m]\u001b[0m\u001b[0;34m\u001b[0m\u001b[0;34m\u001b[0m\u001b[0m\n\u001b[1;32m     16\u001b[0m     \u001b[0;32mfor\u001b[0m \u001b[0mi\u001b[0m \u001b[0;32min\u001b[0m \u001b[0mdna\u001b[0m\u001b[0;34m:\u001b[0m\u001b[0;34m\u001b[0m\u001b[0;34m\u001b[0m\u001b[0m\n\u001b[0;32m---> 17\u001b[0;31m         \u001b[0mnumeric_dna\u001b[0m\u001b[0;34m.\u001b[0m\u001b[0mappend\u001b[0m\u001b[0;34m(\u001b[0m\u001b[0mDNA2Int\u001b[0m\u001b[0;34m[\u001b[0m\u001b[0mi\u001b[0m\u001b[0;34m]\u001b[0m\u001b[0;34m)\u001b[0m\u001b[0;34m\u001b[0m\u001b[0;34m\u001b[0m\u001b[0m\n\u001b[0m\u001b[1;32m     18\u001b[0m     \u001b[0mnumeric_dna\u001b[0m \u001b[0;34m=\u001b[0m \u001b[0mnp\u001b[0m\u001b[0;34m.\u001b[0m\u001b[0marray\u001b[0m\u001b[0;34m(\u001b[0m\u001b[0mnumeric_dna\u001b[0m\u001b[0;34m)\u001b[0m\u001b[0;34m\u001b[0m\u001b[0;34m\u001b[0m\u001b[0m\n\u001b[1;32m     19\u001b[0m     \u001b[0;32mreturn\u001b[0m \u001b[0mnumeric_dna\u001b[0m\u001b[0;34m\u001b[0m\u001b[0;34m\u001b[0m\u001b[0m\n",
      "\u001b[0;31mKeyError\u001b[0m: 2"
     ]
    }
   ],
   "source": [
    "print('Trying to find a match for ', unknown_dna)\n",
    "for animal in animal_dna:\n",
    "    \n",
    "    known_dna = animal_dna[animal]\n",
    "\n",
    "    numeric_genome = seq_to_array(known_dna)\n",
    "    numeric_sample = seq_to_array(unknown_dna)\n",
    "    \n",
    "    pos = find_the_match(numeric_sample, numeric_genome)\n",
    "    \n",
    "    if pos >= 0:\n",
    "        print('The sample DNA matches the sequence of the', animal, 'starting at position', pos)\n",
    "        break\n",
    "        \n",
    "if pos < 0:  \n",
    "    print('Could not find a match')"
   ]
  },
  {
   "cell_type": "markdown",
   "metadata": {},
   "source": [
    "### Write the function `find_the_match`\n",
    "\n",
    "that uses the 1-norm to find the DNA sequence that matches the sample DNA. \n",
    "\n",
    "```python\n",
    "def find_the_match(numeric_sample, numeric_genome)\n",
    "\n",
    "    return integer\n",
    "```\n",
    "\n",
    "The function takes the 1d numpy array that were converted from the DNA strings, and returns a non-negative integer if it finds a match, or -1 otherwise.\n",
    "\n",
    "When it finds a match, the function returns the position in the DNA sequence where the match starts (recall that python starts the index at zero).\n",
    "\n",
    "Run the code snippet above that uses your now defined function, and check your results. You can also generate other input values (animal list), and re-run your code snippet."
   ]
  },
  {
   "cell_type": "code",
   "execution_count": 18,
   "metadata": {},
   "outputs": [],
   "source": [
    "#grade (enter your code in this cell - DO NOT DELETE THIS LINE) \n",
    "def find_the_match(numeric_sample, numeric_genome):\n",
    "    for i in range(len(numeric_genome)-len(numeric_sample)+1):\n",
    "        print(numeric_sample)\n",
    "        print(numeric_genome[i:i+len(numeric_sample)])\n",
    "        #out = seq_to_array(numeric_sample)-seq_to_array( numeric_genome[i:i+len(numeric_sample)])\n",
    "        out = numeric_sample-numeric_genome[i:i+len(numeric_sample)]\n",
    "        #if (numeric_sample == numeric_genome[i:i+len(numeric_sample)]):\n",
    "        if la.norm(out,1)==0:\n",
    "            return i\n",
    "    return -1"
   ]
  },
  {
   "cell_type": "code",
   "execution_count": 19,
   "metadata": {},
   "outputs": [
    {
     "name": "stdout",
     "output_type": "stream",
     "text": [
      "[2 2 3 4 2 1 1 4 3 1 1 2 4 2 1 1]\n",
      "[1 2 3 2 1 4 2 2 1 2 3 2 3 2 1 2]\n",
      "[2 2 3 4 2 1 1 4 3 1 1 2 4 2 1 1]\n",
      "[2 3 2 1 4 2 2 1 2 3 2 3 2 1 2 3]\n",
      "[2 2 3 4 2 1 1 4 3 1 1 2 4 2 1 1]\n",
      "[3 2 1 4 2 2 1 2 3 2 3 2 1 2 3 2]\n",
      "[2 2 3 4 2 1 1 4 3 1 1 2 4 2 1 1]\n",
      "[2 1 4 2 2 1 2 3 2 3 2 1 2 3 2 1]\n",
      "[2 2 3 4 2 1 1 4 3 1 1 2 4 2 1 1]\n",
      "[1 4 2 2 1 2 3 2 3 2 1 2 3 2 1 4]\n",
      "[2 2 3 4 2 1 1 4 3 1 1 2 4 2 1 1]\n",
      "[4 2 2 1 2 3 2 3 2 1 2 3 2 1 4 1]\n",
      "[2 2 3 4 2 1 1 4 3 1 1 2 4 2 1 1]\n",
      "[2 2 1 2 3 2 3 2 1 2 3 2 1 4 1 2]\n",
      "[2 2 3 4 2 1 1 4 3 1 1 2 4 2 1 1]\n",
      "[2 1 2 3 2 3 2 1 2 3 2 1 4 1 2 2]\n",
      "[2 2 3 4 2 1 1 4 3 1 1 2 4 2 1 1]\n",
      "[1 2 3 2 3 2 1 2 3 2 1 4 1 2 2 4]\n",
      "[2 2 3 4 2 1 1 4 3 1 1 2 4 2 1 1]\n",
      "[2 3 2 3 2 1 2 3 2 1 4 1 2 2 4 1]\n",
      "[2 2 3 4 2 1 1 4 3 1 1 2 4 2 1 1]\n",
      "[3 2 3 2 1 2 3 2 1 4 1 2 2 4 1 2]\n",
      "[2 2 3 4 2 1 1 4 3 1 1 2 4 2 1 1]\n",
      "[2 3 2 1 2 3 2 1 4 1 2 2 4 1 2 3]\n",
      "[2 2 3 4 2 1 1 4 3 1 1 2 4 2 1 1]\n",
      "[3 2 1 2 3 2 1 4 1 2 2 4 1 2 3 4]\n",
      "[2 2 3 4 2 1 1 4 3 1 1 2 4 2 1 1]\n",
      "[2 1 2 3 2 1 4 1 2 2 4 1 2 3 4 1]\n",
      "[2 2 3 4 2 1 1 4 3 1 1 2 4 2 1 1]\n",
      "[1 2 3 2 1 4 1 2 2 4 1 2 3 4 1 4]\n",
      "[2 2 3 4 2 1 1 4 3 1 1 2 4 2 1 1]\n",
      "[2 3 2 1 4 1 2 2 4 1 2 3 4 1 4 3]\n",
      "[2 2 3 4 2 1 1 4 3 1 1 2 4 2 1 1]\n",
      "[3 2 1 4 1 2 2 4 1 2 3 4 1 4 3 2]\n",
      "[2 2 3 4 2 1 1 4 3 1 1 2 4 2 1 1]\n",
      "[2 1 4 1 2 2 4 1 2 3 4 1 4 3 2 3]\n",
      "[2 2 3 4 2 1 1 4 3 1 1 2 4 2 1 1]\n",
      "[1 4 1 2 2 4 1 2 3 4 1 4 3 2 3 2]\n",
      "[2 2 3 4 2 1 1 4 3 1 1 2 4 2 1 1]\n",
      "[4 1 2 2 4 1 2 3 4 1 4 3 2 3 2 3]\n",
      "[2 2 3 4 2 1 1 4 3 1 1 2 4 2 1 1]\n",
      "[1 2 2 4 1 2 3 4 1 4 3 2 3 2 3 4]\n",
      "[2 2 3 4 2 1 1 4 3 1 1 2 4 2 1 1]\n",
      "[2 2 4 1 2 3 4 1 4 3 2 3 2 3 4 3]\n",
      "[2 2 3 4 2 1 1 4 3 1 1 2 4 2 1 1]\n",
      "[2 4 1 2 3 4 1 4 3 2 3 2 3 4 3 1]\n",
      "[2 2 3 4 2 1 1 4 3 1 1 2 4 2 1 1]\n",
      "[4 1 2 3 4 1 4 3 2 3 2 3 4 3 1 2]\n",
      "[2 2 3 4 2 1 1 4 3 1 1 2 4 2 1 1]\n",
      "[1 2 3 4 1 4 3 2 3 2 3 4 3 1 2 4]\n",
      "[2 2 3 4 2 1 1 4 3 1 1 2 4 2 1 1]\n",
      "[2 3 4 1 4 3 2 3 2 3 4 3 1 2 4 3]\n",
      "[2 2 3 4 2 1 1 4 3 1 1 2 4 2 1 1]\n",
      "[3 4 1 4 3 2 3 2 3 4 3 1 2 4 3 4]\n",
      "[2 2 3 4 2 1 1 4 3 1 1 2 4 2 1 1]\n",
      "[4 1 4 3 2 3 2 3 4 3 1 2 4 3 4 3]\n",
      "[2 2 3 4 2 1 1 4 3 1 1 2 4 2 1 1]\n",
      "[1 4 3 2 3 2 3 4 3 1 2 4 3 4 3 2]\n",
      "[2 2 3 4 2 1 1 4 3 1 1 2 4 2 1 1]\n",
      "[4 3 2 3 2 3 4 3 1 2 4 3 4 3 2 3]\n",
      "[2 2 3 4 2 1 1 4 3 1 1 2 4 2 1 1]\n",
      "[3 2 3 2 3 4 3 1 2 4 3 4 3 2 3 2]\n",
      "[2 2 3 4 2 1 1 4 3 1 1 2 4 2 1 1]\n",
      "[2 3 2 3 4 3 1 2 4 3 4 3 2 3 2 3]\n",
      "[2 2 3 4 2 1 1 4 3 1 1 2 4 2 1 1]\n",
      "[3 2 3 4 3 1 2 4 3 4 3 2 3 2 3 4]\n",
      "[2 2 3 4 2 1 1 4 3 1 1 2 4 2 1 1]\n",
      "[2 3 4 3 1 2 4 3 4 3 2 3 2 3 4 3]\n",
      "[2 2 3 4 2 1 1 4 3 1 1 2 4 2 1 1]\n",
      "[3 4 3 1 2 4 3 4 3 2 3 2 3 4 3 2]\n",
      "[2 2 3 4 2 1 1 4 3 1 1 2 4 2 1 1]\n",
      "[4 3 1 2 4 3 4 3 2 3 2 3 4 3 2 1]\n",
      "[2 2 3 4 2 1 1 4 3 1 1 2 4 2 1 1]\n",
      "[3 1 2 4 3 4 3 2 3 2 3 4 3 2 1 4]\n",
      "[2 2 3 4 2 1 1 4 3 1 1 2 4 2 1 1]\n",
      "[1 2 4 3 4 3 2 3 2 3 4 3 2 1 4 1]\n",
      "[2 2 3 4 2 1 1 4 3 1 1 2 4 2 1 1]\n",
      "[2 4 3 4 3 2 3 2 3 4 3 2 1 4 1 2]\n",
      "[2 2 3 4 2 1 1 4 3 1 1 2 4 2 1 1]\n",
      "[4 3 4 3 2 3 2 3 4 3 2 1 4 1 2 2]\n",
      "[2 2 3 4 2 1 1 4 3 1 1 2 4 2 1 1]\n",
      "[3 4 3 2 3 2 3 4 3 2 1 4 1 2 2 4]\n",
      "[2 2 3 4 2 1 1 4 3 1 1 2 4 2 1 1]\n",
      "[4 3 2 3 2 3 4 3 2 1 4 1 2 2 4 1]\n",
      "[2 2 3 4 2 1 1 4 3 1 1 2 4 2 1 1]\n",
      "[3 2 3 2 3 4 3 2 1 4 1 2 2 4 1 2]\n",
      "[2 2 3 4 2 1 1 4 3 1 1 2 4 2 1 1]\n",
      "[2 3 2 3 4 3 2 1 4 1 2 2 4 1 2 3]\n",
      "[2 2 3 4 2 1 1 4 3 1 1 2 4 2 1 1]\n",
      "[3 2 3 4 3 2 1 4 1 2 2 4 1 2 3 4]\n",
      "[2 2 3 4 2 1 1 4 3 1 1 2 4 2 1 1]\n",
      "[2 3 4 3 2 1 4 1 2 2 4 1 2 3 4 1]\n",
      "[2 2 3 4 2 1 1 4 3 1 1 2 4 2 1 1]\n",
      "[3 4 3 2 1 4 1 2 2 4 1 2 3 4 1 4]\n",
      "[2 2 3 4 2 1 1 4 3 1 1 2 4 2 1 1]\n",
      "[4 3 2 1 4 1 2 2 4 1 2 3 4 1 4 3]\n",
      "[2 2 3 4 2 1 1 4 3 1 1 2 4 2 1 1]\n",
      "[3 2 1 4 1 2 2 4 1 2 3 4 1 4 3 2]\n",
      "[2 2 3 4 2 1 1 4 3 1 1 2 4 2 1 1]\n",
      "[2 1 4 1 2 2 4 1 2 3 4 1 4 3 2 3]\n",
      "[2 2 3 4 2 1 1 4 3 1 1 2 4 2 1 1]\n",
      "[1 4 1 2 2 4 1 2 3 4 1 4 3 2 3 2]\n",
      "[2 2 3 4 2 1 1 4 3 1 1 2 4 2 1 1]\n",
      "[4 1 2 2 4 1 2 3 4 1 4 3 2 3 2 3]\n",
      "[2 2 3 4 2 1 1 4 3 1 1 2 4 2 1 1]\n",
      "[1 2 2 4 1 2 3 4 1 4 3 2 3 2 3 4]\n",
      "[2 2 3 4 2 1 1 4 3 1 1 2 4 2 1 1]\n",
      "[2 2 4 1 2 3 4 1 4 3 2 3 2 3 4 3]\n",
      "[2 2 3 4 2 1 1 4 3 1 1 2 4 2 1 1]\n",
      "[2 4 1 2 3 4 1 4 3 2 3 2 3 4 3 1]\n",
      "[2 2 3 4 2 1 1 4 3 1 1 2 4 2 1 1]\n",
      "[4 1 2 3 4 1 4 3 2 3 2 3 4 3 1 2]\n",
      "[2 2 3 4 2 1 1 4 3 1 1 2 4 2 1 1]\n",
      "[1 2 3 4 1 4 3 2 3 2 3 4 3 1 2 4]\n",
      "[2 2 3 4 2 1 1 4 3 1 1 2 4 2 1 1]\n",
      "[2 3 4 1 4 3 2 3 2 3 4 3 1 2 4 3]\n",
      "[2 2 3 4 2 1 1 4 3 1 1 2 4 2 1 1]\n",
      "[3 4 1 4 3 2 3 2 3 4 3 1 2 4 3 4]\n",
      "[2 2 3 4 2 1 1 4 3 1 1 2 4 2 1 1]\n",
      "[4 1 4 3 2 3 2 3 4 3 1 2 4 3 4 3]\n",
      "[2 2 3 4 2 1 1 4 3 1 1 2 4 2 1 1]\n",
      "[1 4 3 2 3 2 3 4 3 1 2 4 3 4 3 2]\n",
      "[2 2 3 4 2 1 1 4 3 1 1 2 4 2 1 1]\n",
      "[4 3 2 3 2 3 4 3 1 2 4 3 4 3 2 3]\n",
      "[2 2 3 4 2 1 1 4 3 1 1 2 4 2 1 1]\n",
      "[3 2 3 2 3 4 3 1 2 4 3 4 3 2 3 2]\n",
      "[2 2 3 4 2 1 1 4 3 1 1 2 4 2 1 1]\n",
      "[2 3 2 3 4 3 1 2 4 3 4 3 2 3 2 3]\n",
      "[2 2 3 4 2 1 1 4 3 1 1 2 4 2 1 1]\n",
      "[3 2 3 4 3 1 2 4 3 4 3 2 3 2 3 4]\n",
      "[2 2 3 4 2 1 1 4 3 1 1 2 4 2 1 1]\n",
      "[2 3 4 3 1 2 4 3 4 3 2 3 2 3 4 1]\n",
      "[2 2 3 4 2 1 1 4 3 1 1 2 4 2 1 1]\n",
      "[3 4 3 1 2 4 3 4 3 2 3 2 3 4 1 2]\n",
      "[2 2 3 4 2 1 1 4 3 1 1 2 4 2 1 1]\n",
      "[4 3 1 2 4 3 4 3 2 3 2 3 4 1 2 3]\n",
      "[2 2 3 4 2 1 1 4 3 1 1 2 4 2 1 1]\n",
      "[3 1 2 4 3 4 3 2 3 2 3 4 1 2 3 4]\n",
      "[2 2 3 4 2 1 1 4 3 1 1 2 4 2 1 1]\n",
      "[1 2 4 3 4 3 2 3 2 3 4 1 2 3 4 1]\n",
      "[2 2 3 4 2 1 1 4 3 1 1 2 4 2 1 1]\n",
      "[2 4 3 4 3 2 3 2 3 4 1 2 3 4 1 2]\n",
      "[2 2 3 4 2 1 1 4 3 1 1 2 4 2 1 1]\n",
      "[4 3 4 3 2 3 2 3 4 1 2 3 4 1 2 2]\n",
      "[2 2 3 4 2 1 1 4 3 1 1 2 4 2 1 1]\n",
      "[3 4 3 2 3 2 3 4 1 2 3 4 1 2 2 4]\n",
      "[2 2 3 4 2 1 1 4 3 1 1 2 4 2 1 1]\n",
      "[4 3 2 3 2 3 4 1 2 3 4 1 2 2 4 1]\n",
      "[2 2 3 4 2 1 1 4 3 1 1 2 4 2 1 1]\n",
      "[3 2 3 2 3 4 1 2 3 4 1 2 2 4 1 4]\n",
      "[2 2 3 4 2 1 1 4 3 1 1 2 4 2 1 1]\n",
      "[2 3 2 3 4 1 2 3 4 1 2 2 4 1 4 3]\n",
      "[2 2 3 4 2 1 1 4 3 1 1 2 4 2 1 1]\n",
      "[3 2 3 4 1 2 3 4 1 2 2 4 1 4 3 2]\n",
      "[2 2 3 4 2 1 1 4 3 1 1 2 4 2 1 1]\n",
      "[2 3 4 1 2 3 4 1 2 2 4 1 4 3 2 3]\n",
      "[2 2 3 4 2 1 1 4 3 1 1 2 4 2 1 1]\n",
      "[3 4 1 2 3 4 1 2 2 4 1 4 3 2 3 2]\n",
      "[2 2 3 4 2 1 1 4 3 1 1 2 4 2 1 1]\n",
      "[4 1 2 3 4 1 2 2 4 1 4 3 2 3 2 1]\n",
      "[2 2 3 4 2 1 1 4 3 1 1 2 4 2 1 1]\n",
      "[1 2 3 4 1 2 2 4 1 4 3 2 3 2 1 4]\n",
      "[2 2 3 4 2 1 1 4 3 1 1 2 4 2 1 1]\n",
      "[2 3 4 1 2 2 4 1 4 3 2 3 2 1 4 3]\n",
      "[2 2 3 4 2 1 1 4 3 1 1 2 4 2 1 1]\n",
      "[3 4 1 2 2 4 1 4 3 2 3 2 1 4 3 3]\n",
      "[2 2 3 4 2 1 1 4 3 1 1 2 4 2 1 1]\n",
      "[4 1 2 2 4 1 4 3 2 3 2 1 4 3 3 1]\n",
      "[2 2 3 4 2 1 1 4 3 1 1 2 4 2 1 1]\n",
      "[1 2 2 4 1 4 3 2 3 2 1 4 3 3 1 4]\n",
      "[2 2 3 4 2 1 1 4 3 1 1 2 4 2 1 1]\n",
      "[2 2 4 1 4 3 2 3 2 1 4 3 3 1 4 3]\n",
      "[2 2 3 4 2 1 1 4 3 1 1 2 4 2 1 1]\n",
      "[2 4 1 4 3 2 3 2 1 4 3 3 1 4 3 2]\n",
      "[2 2 3 4 2 1 1 4 3 1 1 2 4 2 1 1]\n",
      "[4 1 4 3 2 3 2 1 4 3 3 1 4 3 2 1]\n",
      "[2 2 3 4 2 1 1 4 3 1 1 2 4 2 1 1]\n",
      "[1 4 3 2 3 2 1 4 3 3 1 4 3 2 1 4]\n",
      "[2 2 3 4 2 1 1 4 3 1 1 2 4 2 1 1]\n",
      "[4 3 2 3 2 1 4 3 3 1 4 3 2 1 4 4]\n",
      "[2 2 3 4 2 1 1 4 3 1 1 2 4 2 1 1]\n",
      "[3 2 3 2 1 4 3 3 1 4 3 2 1 4 4 1]\n",
      "[2 2 3 4 2 1 1 4 3 1 1 2 4 2 1 1]\n",
      "[2 3 2 1 4 3 3 1 4 3 2 1 4 4 1 1]\n",
      "[2 2 3 4 2 1 1 4 3 1 1 2 4 2 1 1]\n",
      "[3 2 1 4 3 3 1 4 3 2 1 4 4 1 1 3]\n",
      "[2 2 3 4 2 1 1 4 3 1 1 2 4 2 1 1]\n",
      "[2 1 4 3 3 1 4 3 2 1 4 4 1 1 3 4]\n",
      "[2 2 3 4 2 1 1 4 3 1 1 2 4 2 1 1]\n",
      "[1 4 3 3 1 4 3 2 1 4 4 1 1 3 4 3]\n",
      "[2 2 3 4 2 1 1 4 3 1 1 2 4 2 1 1]\n",
      "[4 3 3 1 4 3 2 1 4 4 1 1 3 4 3 1]\n",
      "[2 2 3 4 2 1 1 4 3 1 1 2 4 2 1 1]\n",
      "[3 3 1 4 3 2 1 4 4 1 1 3 4 3 1 1]\n",
      "[2 2 3 4 2 1 1 4 3 1 1 2 4 2 1 1]\n",
      "[3 1 4 3 2 1 4 4 1 1 3 4 3 1 1 2]\n",
      "[2 2 3 4 2 1 1 4 3 1 1 2 4 2 1 1]\n",
      "[1 4 3 2 1 4 4 1 1 3 4 3 1 1 2 2]\n",
      "[2 2 3 4 2 1 1 4 3 1 1 2 4 2 1 1]\n",
      "[4 3 2 1 4 4 1 1 3 4 3 1 1 2 2 3]\n",
      "[2 2 3 4 2 1 1 4 3 1 1 2 4 2 1 1]\n",
      "[3 2 1 4 4 1 1 3 4 3 1 1 2 2 3 4]\n",
      "[2 2 3 4 2 1 1 4 3 1 1 2 4 2 1 1]\n",
      "[2 1 4 4 1 1 3 4 3 1 1 2 2 3 4 2]\n",
      "[2 2 3 4 2 1 1 4 3 1 1 2 4 2 1 1]\n",
      "[1 4 4 1 1 3 4 3 1 1 2 2 3 4 2 1]\n",
      "[2 2 3 4 2 1 1 4 3 1 1 2 4 2 1 1]\n",
      "[4 4 1 1 3 4 3 1 1 2 2 3 4 2 1 1]\n",
      "[2 2 3 4 2 1 1 4 3 1 1 2 4 2 1 1]\n",
      "[4 1 1 3 4 3 1 1 2 2 3 4 2 1 1 4]\n",
      "[2 2 3 4 2 1 1 4 3 1 1 2 4 2 1 1]\n",
      "[1 1 3 4 3 1 1 2 2 3 4 2 1 1 4 3]\n",
      "[2 2 3 4 2 1 1 4 3 1 1 2 4 2 1 1]\n",
      "[1 3 4 3 1 1 2 2 3 4 2 1 1 4 3 1]\n",
      "[2 2 3 4 2 1 1 4 3 1 1 2 4 2 1 1]\n",
      "[3 4 3 1 1 2 2 3 4 2 1 1 4 3 1 1]\n",
      "[2 2 3 4 2 1 1 4 3 1 1 2 4 2 1 1]\n",
      "[4 3 1 1 2 2 3 4 2 1 1 4 3 1 1 2]\n",
      "[2 2 3 4 2 1 1 4 3 1 1 2 4 2 1 1]\n",
      "[3 1 1 2 2 3 4 2 1 1 4 3 1 1 2 4]\n",
      "[2 2 3 4 2 1 1 4 3 1 1 2 4 2 1 1]\n",
      "[1 1 2 2 3 4 2 1 1 4 3 1 1 2 4 2]\n",
      "[2 2 3 4 2 1 1 4 3 1 1 2 4 2 1 1]\n",
      "[1 2 2 3 4 2 1 1 4 3 1 1 2 4 2 1]\n",
      "[2 2 3 4 2 1 1 4 3 1 1 2 4 2 1 1]\n",
      "[2 2 3 4 2 1 1 4 3 1 1 2 4 2 1 1]\n"
     ]
    },
    {
     "data": {
      "text/plain": [
       "112"
      ]
     },
     "execution_count": 19,
     "metadata": {},
     "output_type": "execute_result"
    }
   ],
   "source": [
    "find_the_match(numeric_sample, numeric_genome)"
   ]
  },
  {
   "cell_type": "code",
   "execution_count": null,
   "metadata": {},
   "outputs": [],
   "source": []
  }
 ],
 "metadata": {
  "kernelspec": {
   "display_name": "Python 3 (ipykernel)",
   "language": "python",
   "name": "python3"
  },
  "language_info": {
   "codemirror_mode": {
    "name": "ipython",
    "version": 3
   },
   "file_extension": ".py",
   "mimetype": "text/x-python",
   "name": "python",
   "nbconvert_exporter": "python",
   "pygments_lexer": "ipython3",
   "version": "3.9.6"
  }
 },
 "nbformat": 4,
 "nbformat_minor": 4
}
