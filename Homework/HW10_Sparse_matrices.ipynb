{
 "cells": [
  {
   "cell_type": "code",
   "execution_count": null,
   "metadata": {},
   "outputs": [],
   "source": [
    "data = [0.6,0.4,0.8,0.6,0.1,0.1,0.4]\n",
    "rowptr = [0,3,5,6,7]\n",
    "col=[0,2,3,1,3,2,3]\n",
    "\n",
    "\n",
    "import scipy.sparse\n",
    "\n"
   ]
  },
  {
   "cell_type": "code",
   "execution_count": 4,
   "metadata": {},
   "outputs": [
    {
     "data": {
      "text/plain": [
       "3159.5"
      ]
     },
     "execution_count": 4,
     "metadata": {},
     "output_type": "execute_result"
    }
   ],
   "source": [
    "# HW10.3. CSR vs Dense format\n",
    "\n",
    "# sum_CSR = 80*4 + n*4 + n*4 = 4*(80+2*n)\n",
    "# 50*50*4 = 4*(50+1+2*n)\n",
    "# 50*50 = 51+2n\n",
    "(80*80-81)/2"
   ]
  },
  {
   "cell_type": "code",
   "execution_count": null,
   "metadata": {},
   "outputs": [],
   "source": [
    "# HW10.7. Storing Player Attributes in a COO Matrix\n",
    "\n",
    "# Inputs\n",
    "all_attributes = ['Acceleration', 'Aggression', 'Agility', 'Balance', 'Ball control', 'Composure', 'Crossing', 'Curve', 'Dribbling', 'Finishing']\n",
    "player_attributes = [{'GK positioning': 14, 'Penalties': 85, 'Standing tackle': 31, 'Volleys': 88}, {'Sliding tackle': 26, 'Finishing': 95, 'Heading accuracy': 71}, {'Aggression': 56, 'Free kick accuracy': 84, 'Sliding tackle': 33, 'Long passing': 75}, {'GK kicking': 31, 'Stamina': 89, 'Shot power': 87, 'Acceleration': 88, 'Short passing': 83, 'Positioning': 92}, {'Long passing': 59, 'Ball control': 48, 'Aggression': 29, 'Free kick accuracy': 11, 'GK handling': 90, 'Composure': 70}, {'GK reflexes': 10, 'Vision': 78, 'Short passing': 83, 'Agility': 78}, {'Long shots': 12, 'Long passing': 51, 'GK positioning': 86, 'Acceleration': 57, 'Composure': 64}, {'Balance': 91, 'GK handling': 12, 'Curve': 82, 'Sliding tackle': 22}, {'Long passing': 93, 'Sprint speed': 52, 'GK positioning': 7, 'Penalties': 73, 'Free kick accuracy': 84}, {'Curve': 74, 'GK positioning': 5, 'Positioning': 92, 'GK kicking': 7, 'Long passing': 59}]\n",
    "\n",
    "# Start Here\n",
    "\n",
    "att_index = {att:index for index,att in enumerate(all_attributes)}\n",
    "\n",
    "data = []\n",
    "row = []\n",
    "col = []\n",
    "\n",
    "for index_row, player_attribute in enumerate(player_attributes):\n",
    "    for data_name, data_value in player_attribute.items():\n",
    "        data.append(data_value)\n",
    "        row.append(index_row)\n",
    "        \n",
    "        index_col = att_index[data_name]\n",
    "        col.append(index_col)\n",
    "        \n"
   ]
  }
 ],
 "metadata": {
  "kernelspec": {
   "display_name": "Python 3.7.4 ('base')",
   "language": "python",
   "name": "python3"
  },
  "language_info": {
   "codemirror_mode": {
    "name": "ipython",
    "version": 3
   },
   "file_extension": ".py",
   "mimetype": "text/x-python",
   "name": "python",
   "nbconvert_exporter": "python",
   "pygments_lexer": "ipython3",
   "version": "3.7.4"
  },
  "orig_nbformat": 4,
  "vscode": {
   "interpreter": {
    "hash": "7b34b089ce0dfc9935940e0a22050b2949fa617f7a2b73925623c261bed16aeb"
   }
  }
 },
 "nbformat": 4,
 "nbformat_minor": 2
}
