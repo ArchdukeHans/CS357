{
 "cells": [
  {
   "cell_type": "code",
   "execution_count": 2,
   "metadata": {},
   "outputs": [
    {
     "name": "stdout",
     "output_type": "stream",
     "text": [
      "[6. 4.]\n"
     ]
    }
   ],
   "source": [
    "# L12a.3. Finding the Eigenvalues of a Matrix\n",
    "\n",
    "import numpy as np\n",
    "A = np.array([[4,0],\n",
    "              [4,6]])\n",
    "print(np.linalg.eigvals(A))"
   ]
  },
  {
   "cell_type": "code",
   "execution_count": 3,
   "metadata": {},
   "outputs": [
    {
     "name": "stdout",
     "output_type": "stream",
     "text": [
      "[0.  9.5]\n"
     ]
    }
   ],
   "source": [
    "# HW12.2. Eigenvalue of Triangular Matrix\n",
    "\n",
    "A = np.array([[8.9, 0.0],\n",
    "              [8.2, 9.5]])\n",
    "\n",
    "v = np.array([0,1])\n",
    "\n",
    "print(A@v.T)"
   ]
  },
  {
   "cell_type": "code",
   "execution_count": 9,
   "metadata": {},
   "outputs": [
    {
     "name": "stdout",
     "output_type": "stream",
     "text": [
      "5\n",
      "0.6666666666666666\n",
      "-1\n",
      "0.4444444444444444\n",
      "4\n",
      "0.25\n",
      "-93.1\n",
      "0.950544015825915\n",
      "90.1\n",
      "0.0353227771010963\n",
      "96\n",
      "0.03409090909090909\n"
     ]
    }
   ],
   "source": [
    "# HW12.8. Choose Fastest Convergence\n",
    "lambns = [5,-1,4,-93.1,90.1,96]\n",
    "A = np.array([3,8,93])\n",
    "for lambn in lambns:\n",
    "    B = A-lambn\n",
    "    B = np.sort(np.abs(B))\n",
    "    print(lambn)\n",
    "    print(B[0]/B[1])"
   ]
  },
  {
   "cell_type": "code",
   "execution_count": 2,
   "metadata": {},
   "outputs": [
    {
     "name": "stdout",
     "output_type": "stream",
     "text": [
      "4\n",
      "3\n"
     ]
    }
   ],
   "source": [
    "# HW12.9. Shifted and Inverse Iteration Convergence\n",
    "import numpy as np\n",
    "A = np.array([-7,1,4,-3,-9])\n",
    "B = np.sort(np.abs(A))\n",
    "k = 1/2\n",
    "i=1\n",
    "while k>0.01:\n",
    "    k *= k\n",
    "    i += 1\n",
    "print(i)\n",
    "\n",
    "lambn = -2.6\n",
    "A = np.array([-7,1,4,-3,-9])\n",
    "B = np.sort(np.abs(A-lambn))\n",
    "k = B[0]/B[1]\n",
    "i=1\n",
    "while k>0.01:\n",
    "    k *= k\n",
    "    i += 1\n",
    "print(i)"
   ]
  },
  {
   "cell_type": "code",
   "execution_count": 5,
   "metadata": {},
   "outputs": [],
   "source": [
    "# HW12.14. Eigen Iteration Schemes\n",
    "import numpy as np\n",
    "As = np.array([[[1.,2.],[3.,4.]]])\n",
    "\n",
    "import numpy as np\n",
    "import numpy.linalg as la\n",
    "import scipy.linalg as sla\n",
    "import matplotlib.pyplot as plt\n",
    "\n",
    "def normalized_power_iteration(A, x_0, p=2):\n",
    "    # A: nxn matrix, x_0: initial guess, p: type of norm\n",
    "    x_0 = x_0/np.linalg.norm(x_0,p)\n",
    "    x_k = x_0\n",
    "    cnt = 0.0   # number of iterations\n",
    "    while True:\n",
    "        cnt += 1.0\n",
    "        y_k = A @ x_k\n",
    "        x_k_1 = y_k/np.linalg.norm(y_k,p)\n",
    "        e = la.norm(x_k_1-x_k, p)\n",
    "        if e<1e-12:\n",
    "            break\n",
    "        x_k = x_k_1\n",
    "\n",
    "    eigenvalue = (x_k.T@A@x_k)/(x_k.T@x_k)\n",
    "    eigenvector = x_k\n",
    "    return eigenvalue, eigenvector, cnt\n",
    "\n",
    "def inverse_power_iteration(A, x_0, p=2):\n",
    "    x_0 = x_0/np.linalg.norm(x_0,p)\n",
    "    x_k = x_0\n",
    "    P, L, U = sla.lu(A)\n",
    "\n",
    "    for _ in range(500):\n",
    "        # PLUx = b\n",
    "        # L @ y = P.T @ b\n",
    "        # U @ x = y\n",
    "        y = sla.solve_triangular(L, P.T@x_k, lower=True)\n",
    "        x_k = sla.solve_triangular(U, y)\n",
    "        x_k /= np.linalg.norm(x_k,p)\n",
    "\n",
    "    eigenvalue = (x_k.T@A@x_k)/(x_k.T@x_k)\n",
    "    eigenvector = x_k\n",
    "    return eigenvalue, eigenvector\n",
    "\n",
    "def shifted_inverse_power_iteration(A, x_0, sigma=1.0, p=2):\n",
    "    A -= np.eye(A.shape[0])*sigma\n",
    "    x_0 = x_0/np.linalg.norm(x_0,p)\n",
    "    x_k = x_0\n",
    "    P, L, U = sla.lu(A)\n",
    "    \n",
    "    for _ in range(500):\n",
    "        # PLUx = b\n",
    "        # L @ y = P.T @ b\n",
    "        # U @ x = y\n",
    "        y = sla.solve_triangular(L, P.T@x_k, lower=True)\n",
    "        x_k = sla.solve_triangular(U, y)\n",
    "        x_k /= np.linalg.norm(x_k,p)\n",
    "\n",
    "    eigenvalue = (x_k.T@A@x_k)/(x_k.T@x_k)\n",
    "    eigenvector = x_k\n",
    "    return eigenvalue, eigenvector\n",
    "\n",
    "eigenval1 = []\n",
    "eigenvec1 = []\n",
    "eigenval2 = []\n",
    "eigenvec2 = []\n",
    "shifted_eigval = []\n",
    "shifted_eigvec = []\n",
    "cnt = []\n",
    "ratios = []\n",
    "for A in As:\n",
    "    w1, v1, cnt_n = normalized_power_iteration(A, x_0)\n",
    "    eigenval1.append(w1)\n",
    "    eigenvec1.append(v1)\n",
    "    cnt.append(cnt_n)\n",
    "    \n",
    "    w2, v2 = inverse_power_iteration(A, x_0)\n",
    "    eigenval2.append(w2)\n",
    "    eigenvec2.append(v2)\n",
    "    ratio = w1/w2\n",
    "    ratios.append(ratio)\n",
    "    \n",
    "    w, v = shifted_inverse_power_iteration(A, x_0)\n",
    "    shifted_eigval.append(w)\n",
    "    shifted_eigvec.append(v)\n",
    "    \n",
    "eigenval1 = np.array(eigenval1)\n",
    "eigenvec1 = np.array(eigenvec1)\n",
    "eigenval2 = np.array(eigenval2)\n",
    "eigenvec2 = np.array(eigenvec2)\n",
    "shifted_eigval = np.array(shifted_eigval)\n",
    "shifted_eigvec = np.array(shifted_eigvec)\n",
    "cnt = np.array(cnt)\n",
    "ratios = np.array(ratios)\n",
    "\n",
    "plt.figure()\n",
    "plt.plot(cnt, ratios)\n",
    "plt.xlabel('cnt')\n",
    "plt.ylabel('ratios')"
   ]
  },
  {
   "cell_type": "code",
   "execution_count": 3,
   "metadata": {},
   "outputs": [
    {
     "data": {
      "text/plain": [
       "10.0"
      ]
     },
     "execution_count": 3,
     "metadata": {},
     "output_type": "execute_result"
    }
   ],
   "source": [
    "def f(x1, x2):\n",
    "    return 8*x1 + 10*x2 +2*x1*x2\n",
    "x1, x2 = (1,1)\n",
    "h=0.5\n",
    "\n",
    "(f(x1+h,x2)-f(x1,x2))/h"
   ]
  }
 ],
 "metadata": {
  "kernelspec": {
   "display_name": "Python 3.7.4 ('base')",
   "language": "python",
   "name": "python3"
  },
  "language_info": {
   "codemirror_mode": {
    "name": "ipython",
    "version": 3
   },
   "file_extension": ".py",
   "mimetype": "text/x-python",
   "name": "python",
   "nbconvert_exporter": "python",
   "pygments_lexer": "ipython3",
   "version": "3.7.4"
  },
  "orig_nbformat": 4,
  "vscode": {
   "interpreter": {
    "hash": "7b34b089ce0dfc9935940e0a22050b2949fa617f7a2b73925623c261bed16aeb"
   }
  }
 },
 "nbformat": 4,
 "nbformat_minor": 2
}
