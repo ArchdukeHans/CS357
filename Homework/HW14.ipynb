{
 "cells": [
  {
   "cell_type": "code",
   "execution_count": 9,
   "metadata": {},
   "outputs": [
    {
     "name": "stdout",
     "output_type": "stream",
     "text": [
      "0.00501670841681098\n"
     ]
    }
   ],
   "source": [
    "import numpy as np\n",
    "x=0.9\n",
    "step=0.01\n",
    "def f(x):\n",
    "    return 8*np.e**(x)\n",
    "def df(x):\n",
    "    return f(x)\n",
    "abs_error = np.abs(df(x) - (f(x+step)-f(x))/step )\n",
    "rel_error = abs_error/(df(x))\n",
    "print(rel_error)"
   ]
  },
  {
   "cell_type": "code",
   "execution_count": 13,
   "metadata": {},
   "outputs": [
    {
     "name": "stdout",
     "output_type": "stream",
     "text": [
      "1.8999999999999995\n",
      "2.0000000000000018\n",
      "1.0000000000000009\n"
     ]
    }
   ],
   "source": [
    "def v(X):\n",
    "    x,y,z = X\n",
    "    return x**2*y*z+y+1\n",
    "X = np.array([1.00, 1.00, 1.00])\n",
    "\n",
    "h = 0.1\n",
    "for i in range(3):\n",
    "    H = [0.0, 0.0, 0.0]\n",
    "    H[i] = h\n",
    "    F = (v(X) - v(X-H))/h\n",
    "    print(F)"
   ]
  },
  {
   "cell_type": "code",
   "execution_count": 17,
   "metadata": {},
   "outputs": [
    {
     "name": "stdout",
     "output_type": "stream",
     "text": [
      "1.8236072286956337\n"
     ]
    }
   ],
   "source": [
    "def x(t):\n",
    "    return np.e**t\n",
    "t=0.6\n",
    "h=0.07\n",
    "v = (x(t+h)-x(t-h))/(2*h)\n",
    "print(v)"
   ]
  },
  {
   "cell_type": "code",
   "execution_count": null,
   "metadata": {},
   "outputs": [],
   "source": [
    "import numpy as np\n",
    "import matplotlib.pyplot as plt\n",
    "\n",
    "def func(x):\n",
    "    '''\n",
    "    Parameters\n",
    "    x: 1D numpy array\n",
    "    Returns\n",
    "    f: scalar function value\n",
    "    '''\n",
    "    # WRITE YOUR CODE HERE\n",
    "    x1, x2 = x\n",
    "    return 2*x1**2 - 0.5*x1*x2 + 5*x2**3\n",
    "\n",
    "def dfunc(x):\n",
    "    '''\n",
    "    Parameters\n",
    "    x: 1D numpy array\n",
    "    Returns\n",
    "    df: 1D numpy array containing first derivatives wrt x\n",
    "    '''\n",
    "    # df/dx1 = 4*x1 - 0.5*x2\n",
    "    # df/dx2 = -0.5*x1 + 15*x2**2\n",
    "    # WRITE YOUR CODE HERE\n",
    "    x1, x2 = x\n",
    "    df1 = 4*x1 - 0.5*x2\n",
    "    df2 = -0.5*x1 + 15*x2**2\n",
    "    return np.array([df1, df2])\n",
    "\n",
    "def fd(x,dx):\n",
    "    '''\n",
    "    Parameters\n",
    "    x: 1D numpy array\n",
    "    dx: small perturbation (increment in x)  (scalar)\n",
    "    Returns\n",
    "    df: 1D numpy array containing approximations for the first derivatives wrt x\n",
    "    '''\n",
    "    # WRITE YOUR CODE HERE\n",
    "    x1, x2 = x\n",
    "    df1 = (func(np.array([x1+dx, x2])) -func(x) )/dx\n",
    "    df2 = (func(np.array([x1, x2+dx])) -func(x) )/dx\n",
    "    return np.array([df1, df2])\n",
    "\n",
    "fd_true = dfunc(xvec)\n",
    "error = []\n",
    "# COMPUTE FINITE DIFFERENCE APPROXIMATIONS FOR DECREASING VALUES OF dx\n",
    "for dx in dxvec:\n",
    "    # compute df_approx (using df function)\n",
    "    # compute df_exact (using dfunc)\n",
    "    # update variable error\n",
    "    fd_approx = fd(xvec, dx)\n",
    "    error.append(np.linalg.norm(fd_true-fd_approx, np.inf))\n",
    "error = np.array(error)\n",
    "\n",
    "plt.figure()\n",
    "plt.plot(error, dxvec)\n",
    "plt.xlabel('dxvec')\n",
    "plt.ylabel('error')\n",
    "plt.title('error vs. dx')\n",
    "## Plot the error as a function of the perturbation dx\n",
    "plt.show()"
   ]
  }
 ],
 "metadata": {
  "kernelspec": {
   "display_name": "Python 3.7.4 ('base')",
   "language": "python",
   "name": "python3"
  },
  "language_info": {
   "codemirror_mode": {
    "name": "ipython",
    "version": 3
   },
   "file_extension": ".py",
   "mimetype": "text/x-python",
   "name": "python",
   "nbconvert_exporter": "python",
   "pygments_lexer": "ipython3",
   "version": "3.7.4"
  },
  "orig_nbformat": 4,
  "vscode": {
   "interpreter": {
    "hash": "7b34b089ce0dfc9935940e0a22050b2949fa617f7a2b73925623c261bed16aeb"
   }
  }
 },
 "nbformat": 4,
 "nbformat_minor": 2
}
