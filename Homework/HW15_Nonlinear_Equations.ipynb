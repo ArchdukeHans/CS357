{
 "cells": [
  {
   "cell_type": "code",
   "execution_count": 1,
   "metadata": {},
   "outputs": [
    {
     "name": "stdout",
     "output_type": "stream",
     "text": [
      "Jf: [[ 1.  0.]\n",
      " [18.  1.]]\n",
      "x1: [-2. 53.]\n"
     ]
    }
   ],
   "source": [
    "# L15b.6. NewtonND-triangular\n",
    "\n",
    "import numpy as np\n",
    "import numpy.linalg as la\n",
    "import scipy.optimize as opt\n",
    "\n",
    "def f(xvec):\n",
    "    x, y = xvec\n",
    "    return np.array([\n",
    "        x+2,\n",
    "        6*x**3 + y -5\n",
    "    ])\n",
    "\n",
    "def Jf(xvec):\n",
    "    x, y = xvec\n",
    "    return np.array([\n",
    "        [1, 0],\n",
    "        [18*x**2, 1]\n",
    "    ])\n",
    "\n",
    "x0 = np.array([1.0, 0.0])\n",
    "f1 = f(x0)\n",
    "Jf1 = Jf(x0)\n",
    "s1 = la.solve(Jf1, -f1)\n",
    "x1 = x0 + s1\n",
    "\n",
    "print('Jf:', Jf1)\n",
    "print('x1:', x1)\n",
    "# sol = opt.root(f, x0=[1, 0], jac=Jf)\n",
    "# root = sol.x\n"
   ]
  },
  {
   "cell_type": "code",
   "execution_count": 3,
   "metadata": {},
   "outputs": [
    {
     "data": {
      "text/plain": [
       "1.0"
      ]
     },
     "execution_count": 3,
     "metadata": {},
     "output_type": "execute_result"
    }
   ],
   "source": [
    "# HW15.2. Determine the length of the interval\n",
    "L = -6\n",
    "R = 10\n",
    "n = 4\n",
    "abs(R-L)/2**n"
   ]
  },
  {
   "cell_type": "code",
   "execution_count": 7,
   "metadata": {},
   "outputs": [
    {
     "data": {
      "text/plain": [
       "15"
      ]
     },
     "execution_count": 7,
     "metadata": {},
     "output_type": "execute_result"
    }
   ],
   "source": [
    "# HW15.3. Newton's Method - How many iterations?\n",
    "import numpy as np\n",
    "x0 = 2.5\n",
    "tol = 1e-9\n",
    "def f(x):\n",
    "    return x*(3-x)**2\n",
    "def df(x):\n",
    "    return (3-x)**2 + x*2*(3-x)*(-1)\n",
    "\n",
    "iter = 0\n",
    "xk = x0\n",
    "while True:\n",
    "    iter += 1\n",
    "    xk_1 = xk - f(xk)/df(xk)\n",
    "    if abs(f(xk_1)) < tol:\n",
    "        break\n",
    "    else:\n",
    "        xk = xk_1\n",
    "iter"
   ]
  },
  {
   "cell_type": "code",
   "execution_count": 9,
   "metadata": {},
   "outputs": [
    {
     "name": "stdout",
     "output_type": "stream",
     "text": [
      "x2: 0.013550177543362407\n",
      "x2: 0.0\n",
      "a'= -0.25\n",
      "b'= 0.125\n"
     ]
    }
   ],
   "source": [
    "# HW15.5. One Step of Solving 1D Equations\n",
    "\n",
    "# Apply one step of Newton's method\n",
    "def f(x):\n",
    "    return np.sin(x/5)\n",
    "def df(x):\n",
    "    return 1/5*np.cos(x/5)\n",
    "x1 = -1\n",
    "x2 = x1 - f(x1)/df(x1)\n",
    "print('x2:', x2)\n",
    "\n",
    "# Apply one step of the Secant method\n",
    "x0 = 1\n",
    "x1 = -1\n",
    "def df(x1, x0):\n",
    "    return (f(x1) - f(x0))/(x1 - x0)\n",
    "x2 = x1 - f(x1)/df(x1, x0)\n",
    "print('x2:', x2)\n",
    "\n",
    "# Apply n steps of the Bisection method\n",
    "a = -1\n",
    "b = 2\n",
    "n = 3\n",
    "for _ in range(n):\n",
    "    m = (a+b)/2\n",
    "    if f(a)*f(m) > 0:\n",
    "        a = m\n",
    "    else:\n",
    "        b = m\n",
    "print('a\\'=', a)\n",
    "print('b\\'=', b)\n"
   ]
  },
  {
   "cell_type": "code",
   "execution_count": 16,
   "metadata": {},
   "outputs": [
    {
     "name": "stdout",
     "output_type": "stream",
     "text": [
      "J:\n",
      " [[-14   8]\n",
      " [ -5   4]]\n",
      "X1:\n",
      " [ 1.25   -0.4375]\n"
     ]
    }
   ],
   "source": [
    "# HW15.7. Newton Solve\n",
    "import numpy as np\n",
    "import numpy.linalg as la\n",
    "x1 = 2\n",
    "x2 = -1\n",
    "\n",
    "def f(x1, x2):\n",
    "    X = np.array([x1**2, x1, 1, x2**2, x2, x1*x2]).T\n",
    "    A = np.array([[-3, 0, 2, -3, -2, 2],\n",
    "                  [-1, 0, 0, -2, -2, 1]])\n",
    "    return A@X\n",
    "\n",
    "def J(x1, x2):\n",
    "    dX = np.array([[2*x1, 1, 0, 0, 0, x2],\n",
    "                   [0, 0, 0, 2*x2, 1, x1]]).T\n",
    "    A = np.array([[-3, 0, 2, -3, -2, 2],\n",
    "                  [-1, 0, 0, -2, -2, 1]])\n",
    "    return  A@dX\n",
    "\n",
    "print('J:\\n',J(x1, x2))\n",
    "\n",
    "X0 = np.array([x1, x2])\n",
    "sk = la.solve(J(x1, x2), -f(x1, x2))\n",
    "X1 = X0 + sk\n",
    "print('X1:\\n',X1)"
   ]
  },
  {
   "cell_type": "code",
   "execution_count": null,
   "metadata": {},
   "outputs": [],
   "source": [
    "# HW15.15. Bisection\n",
    "\n",
    "roots = []\n",
    "for (a, b) in intervals:\n",
    "    root = None\n",
    "    for _ in range(n_iter):\n",
    "        if not a<b or function(a)*function(b) > 0:\n",
    "            break\n",
    "        else:\n",
    "            m = (a+b)/2\n",
    "            if abs(function(m)) <= epsilon:\n",
    "                root = m\n",
    "                break\n",
    "            else:\n",
    "                if function(a)*function(m) < 0:\n",
    "                    b = m\n",
    "                else:\n",
    "                    a = m\n",
    "    roots.append(root)"
   ]
  },
  {
   "cell_type": "code",
   "execution_count": null,
   "metadata": {},
   "outputs": [],
   "source": [
    "# HW15.16. Secant\n",
    "\n",
    "import numpy as np\n",
    "roots = []\n",
    "xk_1, xk = xks\n",
    "for _ in range(5):\n",
    "    dfk = (f(xk)-f(xk_1))/(xk-xk_1)\n",
    "    xk_ = xk - f(xk)/dfk\n",
    "    roots.append(xk_)\n",
    "    \n",
    "    xk_1 = xk\n",
    "    xk = xk_\n",
    "    \n",
    "roots = np.array(roots)"
   ]
  }
 ],
 "metadata": {
  "kernelspec": {
   "display_name": "Python 3.7.4 ('base')",
   "language": "python",
   "name": "python3"
  },
  "language_info": {
   "codemirror_mode": {
    "name": "ipython",
    "version": 3
   },
   "file_extension": ".py",
   "mimetype": "text/x-python",
   "name": "python",
   "nbconvert_exporter": "python",
   "pygments_lexer": "ipython3",
   "version": "3.7.4"
  },
  "orig_nbformat": 4,
  "vscode": {
   "interpreter": {
    "hash": "7b34b089ce0dfc9935940e0a22050b2949fa617f7a2b73925623c261bed16aeb"
   }
  }
 },
 "nbformat": 4,
 "nbformat_minor": 2
}
