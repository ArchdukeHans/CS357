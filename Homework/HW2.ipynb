{
 "cells": [
  {
   "cell_type": "code",
   "execution_count": 1,
   "metadata": {},
   "outputs": [],
   "source": [
    "A = [1,2,3,4]\n",
    "B = A\n",
    "C = A\n",
    "\n",
    "B.append(5)\n",
    "C = C + [6]\n",
    "B.append(6)"
   ]
  },
  {
   "cell_type": "code",
   "execution_count": 9,
   "metadata": {},
   "outputs": [
    {
     "name": "stdout",
     "output_type": "stream",
     "text": [
      "True\n",
      "True\n"
     ]
    }
   ],
   "source": [
    "print(A==C)\n",
    "print(A==B)"
   ]
  },
  {
   "cell_type": "code",
   "execution_count": 6,
   "metadata": {},
   "outputs": [
    {
     "name": "stdout",
     "output_type": "stream",
     "text": [
      "139994614960640 139994614961536\n"
     ]
    }
   ],
   "source": [
    "print(id(A), id(C))"
   ]
  },
  {
   "cell_type": "code",
   "execution_count": 10,
   "metadata": {},
   "outputs": [
    {
     "ename": "SyntaxError",
     "evalue": "invalid syntax (1442408063.py, line 4)",
     "output_type": "error",
     "traceback": [
      "\u001b[0;36m  File \u001b[0;32m\"/tmp/ipykernel_54/1442408063.py\"\u001b[0;36m, line \u001b[0;32m4\u001b[0m\n\u001b[0;31m    i++\u001b[0m\n\u001b[0m       ^\u001b[0m\n\u001b[0;31mSyntaxError\u001b[0m\u001b[0;31m:\u001b[0m invalid syntax\n"
     ]
    }
   ],
   "source": [
    "i=0\n",
    "while i<4:\n",
    "    print(i)\n",
    "    i++     # Syntax error, should be i+=1\n",
    "    print(i+1)"
   ]
  },
  {
   "cell_type": "code",
   "execution_count": 11,
   "metadata": {},
   "outputs": [
    {
     "name": "stdout",
     "output_type": "stream",
     "text": [
      "[1, 2, 3, 4, 5] [1, 2, 3, 4, 5, 5]\n"
     ]
    }
   ],
   "source": [
    "a = [1, 2, 3, 4]\n",
    "b = a\n",
    "a.append(5)\n",
    "# HERE\n",
    "a = b.copy()\n",
    "b.append(5)\n",
    "print(a, b)"
   ]
  },
  {
   "cell_type": "code",
   "execution_count": 13,
   "metadata": {},
   "outputs": [
    {
     "name": "stdout",
     "output_type": "stream",
     "text": [
      "[4, 5, 6, 8, 9, 10]\n"
     ]
    }
   ],
   "source": [
    "A = [4,5,6,7,8,9,10]\n",
    "A.pop(3) # this will delete element of index 3 from list\n",
    "print(A)"
   ]
  },
  {
   "cell_type": "code",
   "execution_count": 1,
   "metadata": {},
   "outputs": [
    {
     "name": "stdout",
     "output_type": "stream",
     "text": [
      "(76, 84, 86)\n"
     ]
    }
   ],
   "source": [
    "import numpy as np\n",
    "a = np.zeros((82,86,94))\n",
    "b = a[:-6, 2:, 6:-2]\n",
    "print(b.shape)"
   ]
  },
  {
   "cell_type": "markdown",
   "metadata": {},
   "source": [
    "![](image/HW2.11.%20NumPy%20Concept.png)"
   ]
  },
  {
   "cell_type": "code",
   "execution_count": 22,
   "metadata": {},
   "outputs": [
    {
     "name": "stdout",
     "output_type": "stream",
     "text": [
      "{'#illinifriday!': 1, '#illini?': 1, '#illini': 2, '#jointhefight': 1}\n",
      "['#illini', '#illini?', '#illinifriday!', '#jointhefight']\n",
      "[('#illini', 2), ('#illini?', 1), ('#illinifriday!', 1), ('#jointhefight', 1)]\n"
     ]
    }
   ],
   "source": [
    "tweets = [\"Happy #IlliniFriday!\",\n",
    "  \"It is a pretty campus, isn't it, #illini?\",\n",
    "  \"Diving into the last weekend of winter break like... #ILLINI #JoinTheFight\",\n",
    "  \"Are you wearing your Orange and Blue today, #Illini Nation?\"]\n",
    "\n",
    "def user_code(tweets):\n",
    "    hash_tag = {}\n",
    "    for tweet in tweets:\n",
    "        tweet = str.lower(tweet)\n",
    "        words = str.split(tweet)\n",
    "        for word in words:\n",
    "            if '#' == word[0]:\n",
    "                if word in hash_tag:\n",
    "                    hash_tag[word] += 1\n",
    "                else:\n",
    "                    hash_tag[word] = 1\n",
    "    hashtag_counts = [(key, hash_tag[key]) for key in sorted(hash_tag)] # first sort by hashtag\n",
    "    def sort_method(x): # define sort key, this should sort by count\n",
    "        return x[1]\n",
    "    hashtag_counts = sorted(hashtag_counts, key=sort_method, reverse=True)  # then sort by count\n",
    "    print(hashtag_counts)\n",
    "\n",
    "user_code(tweets)\n",
    "# [('#illini', 2), ('#illini?', 1), ('#illinifriday!', 1), ('#jointhefight', 1)]"
   ]
  },
  {
   "cell_type": "code",
   "execution_count": 35,
   "metadata": {},
   "outputs": [
    {
     "name": "stdout",
     "output_type": "stream",
     "text": [
      "[2, 3, 4, 5, 6, 7, 8, 9, 10]\n"
     ]
    }
   ],
   "source": [
    "import numpy as np\n",
    "nums = [i for i in range(10,1,-1)]\n",
    "\n",
    "# def list_sort(nums):\n",
    "#     # write some code here\n",
    "#     nums.sort(reverse=False)\n",
    "\n",
    "def list_sort(nums):\n",
    "    # 冒泡算法\n",
    "    for i in range(1, len(nums)):\n",
    "        for j in range(0, len(nums)-i):\n",
    "            if nums[j] > nums[j+1]:\n",
    "                nums[j], nums[j+1] = nums[j+1], nums[j]\n",
    "\n",
    "# test\n",
    "list_sort(nums)\n",
    "print(nums)"
   ]
  }
 ],
 "metadata": {
  "kernelspec": {
   "display_name": "Python 3.7.4 ('base')",
   "language": "python",
   "name": "python3"
  },
  "language_info": {
   "codemirror_mode": {
    "name": "ipython",
    "version": 3
   },
   "file_extension": ".py",
   "mimetype": "text/x-python",
   "name": "python",
   "nbconvert_exporter": "python",
   "pygments_lexer": "ipython3",
   "version": "3.7.4"
  },
  "vscode": {
   "interpreter": {
    "hash": "7b34b089ce0dfc9935940e0a22050b2949fa617f7a2b73925623c261bed16aeb"
   }
  }
 },
 "nbformat": 4,
 "nbformat_minor": 4
}
