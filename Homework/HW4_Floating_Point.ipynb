{
 "cells": [
  {
   "cell_type": "code",
   "execution_count": 1,
   "metadata": {},
   "outputs": [],
   "source": [
    "import numpy as np"
   ]
  },
  {
   "cell_type": "code",
   "execution_count": 2,
   "metadata": {},
   "outputs": [
    {
     "data": {
      "text/plain": [
       "'1101010'"
      ]
     },
     "execution_count": 2,
     "metadata": {},
     "output_type": "execute_result"
    }
   ],
   "source": [
    "# La.2\n",
    "def ten2two(int_10):\n",
    "    res = str()\n",
    "    while int_10 != 0:\n",
    "        res += str(int_10%2)\n",
    "        int_10 = int_10//2\n",
    "    return res[::-1]\n",
    "ten2two(106)"
   ]
  },
  {
   "cell_type": "code",
   "execution_count": 3,
   "metadata": {},
   "outputs": [
    {
     "data": {
      "text/plain": [
       "116"
      ]
     },
     "execution_count": 3,
     "metadata": {},
     "output_type": "execute_result"
    }
   ],
   "source": [
    "# La.3\n",
    "def two2ten(int_2):\n",
    "    res = list()\n",
    "    while int_2 != 0:\n",
    "        res.append(int_2%10)\n",
    "        int_2 = int_2 // 10\n",
    "    int_10 = 0\n",
    "    for i in range(len(res)):\n",
    "        int_10 += res[i]*2**(i)\n",
    "    return int_10\n",
    "two2ten(1110100)"
   ]
  },
  {
   "cell_type": "code",
   "execution_count": 4,
   "metadata": {},
   "outputs": [
    {
     "data": {
      "text/plain": [
       "'1.1011'"
      ]
     },
     "execution_count": 4,
     "metadata": {},
     "output_type": "execute_result"
    }
   ],
   "source": [
    "# La.4\n",
    "def decimal2two(x):\n",
    "    \"\"\"\n",
    "        x : in form 1.f\n",
    "\n",
    "    \"\"\"\n",
    "    res = str()\n",
    "    if x > 1:\n",
    "        res='1.'\n",
    "        x -= 1\n",
    "    else:\n",
    "        res='0.'\n",
    "    while x % 1 != 0:\n",
    "        x *= 2\n",
    "        if x >= 1:\n",
    "            res += ('1')\n",
    "            x -= 1\n",
    "        else:\n",
    "            res += ('0')\n",
    "    return res\n",
    "decimal2two(1.6875)"
   ]
  },
  {
   "cell_type": "code",
   "execution_count": 5,
   "metadata": {},
   "outputs": [],
   "source": [
    "# La.5\n",
    "def two2decimal(x):\n",
    "    d = 0\n",
    "    for i, j in enumerate(x):\n",
    "        d += 2**(-i-1)*j\n",
    "    return d\n"
   ]
  },
  {
   "cell_type": "code",
   "execution_count": 6,
   "metadata": {},
   "outputs": [
    {
     "name": "stdout",
     "output_type": "stream",
     "text": [
      "5\n",
      "0.015625\n",
      "124.0\n",
      "0.0625\n"
     ]
    }
   ],
   "source": [
    "# La.12\n",
    "def normalized_binary_floating_point_system(n, m):\n",
    "    \"\"\"_summary_\n",
    "\n",
    "    Args:\n",
    "        n (int): number of bits to store the fraction part\n",
    "        m (list): exponent of range, [L, U]\n",
    "    \"\"\"\n",
    "    p = n+1 # Precision\n",
    "    L = m[0]\n",
    "    U = m[1]\n",
    "    Smallest = 2**L\n",
    "    Largest = 2**(U+1)*(1-2**(-p))\n",
    "    machine_epsilon = 2**(-n)\n",
    "    \n",
    "    print(p)\n",
    "    print(Smallest)\n",
    "    print(Largest)\n",
    "    print(machine_epsilon)\n",
    "    \n",
    "normalized_binary_floating_point_system(n=4, m=[-6,6])"
   ]
  },
  {
   "cell_type": "markdown",
   "metadata": {},
   "source": [
    "# a.2 exact representation\n",
    "![2](image/HW4a.2..png)\n",
    "\n",
    "$2^{(n+1)}$"
   ]
  },
  {
   "cell_type": "code",
   "execution_count": 7,
   "metadata": {},
   "outputs": [
    {
     "name": "stdout",
     "output_type": "stream",
     "text": [
      "111010\n",
      "0.11\n"
     ]
    }
   ],
   "source": [
    "print(ten2two(58))\n",
    "print(decimal2two(0.75))"
   ]
  },
  {
   "cell_type": "code",
   "execution_count": 8,
   "metadata": {},
   "outputs": [],
   "source": [
    "# a.9\n",
    "def Decoding(minifloats):\n",
    "    outputs = list()\n",
    "    for i in range(len(minifloats)):\n",
    "        m = minifloats[i]\n",
    "        E = m[1]*2**3+m[2]*2**2+m[3]*2+m[4]-8   # exponent\n",
    "        D = 1+m[5]/2+m[6]/4+m[7]/8              # significant\n",
    "        S = (-1)**m[0]  # sign\n",
    "        if E > 0:\n",
    "            res = S*D*2**E\n",
    "        else:\n",
    "            res = S*D/2**(-E)\n",
    "        outputs.append(res)"
   ]
  },
  {
   "cell_type": "code",
   "execution_count": 9,
   "metadata": {},
   "outputs": [],
   "source": [
    "def decimal_to_floating_point(x, n, p):\n",
    "    \"\"\"\n",
    "    Convert a positive decimal number x into its normalized floating-point\n",
    "    form.\n",
    "    \n",
    "    Parameters\n",
    "    ----------\n",
    "    x: float\n",
    "        Input positive decimal number\n",
    "    n: int\n",
    "        Number of binary bits in fraction\n",
    "    p: int\n",
    "        Exponent range\n",
    "\n",
    "    Returns\n",
    "    -------\n",
    "    f: str\n",
    "        String of length n representing the fraction part of x in the given floating-point system\n",
    "    m: int\n",
    "        Exponent of x in the given floating-point system\n",
    "    \"\"\"\n",
    "\n",
    "    # your implementation goes here\n",
    "    x_int = int(x//1)\n",
    "    bin_int = str()\n",
    "    while x_int:\n",
    "        bin_int = str(x_int%2) + bin_int\n",
    "        x_int = int(x_int//2)\n",
    "    \n",
    "    x_f = x%1\n",
    "    bin_f = str('')\n",
    "    while x_f:\n",
    "        x_f *= 2\n",
    "        add = '1' if x_f >= 1 else '0'\n",
    "        bin_f = bin_f + add\n",
    "        x_f -= int(x_f)\n",
    "        \n",
    "    print(bin_int, bin_f)\n",
    "    \n",
    "    if bin_int == '':\n",
    "        index_record = 0\n",
    "        for index, i in enumerate(bin_f):\n",
    "            if i == '1':\n",
    "                index_record = index\n",
    "                break\n",
    "        f = bin_f[index_record+1:]\n",
    "        m = -index_record-1\n",
    "    \n",
    "    else:\n",
    "        bin = bin_int + bin_f\n",
    "        f = bin[1:n+1]\n",
    "        m = len(bin_int)-1\n",
    "    if len(f) < n:\n",
    "        f += '0' * (n-len(f))\n",
    "    return f, m"
   ]
  }
 ],
 "metadata": {
  "kernelspec": {
   "display_name": "Python 3.7.4 ('base')",
   "language": "python",
   "name": "python3"
  },
  "language_info": {
   "codemirror_mode": {
    "name": "ipython",
    "version": 3
   },
   "file_extension": ".py",
   "mimetype": "text/x-python",
   "name": "python",
   "nbconvert_exporter": "python",
   "pygments_lexer": "ipython3",
   "version": "3.7.4"
  },
  "orig_nbformat": 4,
  "vscode": {
   "interpreter": {
    "hash": "7b34b089ce0dfc9935940e0a22050b2949fa617f7a2b73925623c261bed16aeb"
   }
  }
 },
 "nbformat": 4,
 "nbformat_minor": 2
}
