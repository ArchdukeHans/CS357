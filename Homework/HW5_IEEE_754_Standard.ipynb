{
 "cells": [
  {
   "cell_type": "code",
   "execution_count": 8,
   "metadata": {},
   "outputs": [
    {
     "name": "stdout",
     "output_type": "stream",
     "text": [
      "0.57421875\n",
      "1040\n"
     ]
    },
    {
     "data": {
      "text/plain": [
       "206336.0"
      ]
     },
     "execution_count": 8,
     "metadata": {},
     "output_type": "execute_result"
    }
   ],
   "source": [
    "# HW4b.2. Binary to Decimal\n",
    "\n",
    "f = 2**-1 + 2**-4 + 2**-7 + 2**-8#'10010011'\n",
    "print(f)\n",
    "c = 2**4 + 2**10 #10000001110\n",
    "print(c)\n",
    "\n",
    "(1+f)*2**(c-1023)"
   ]
  },
  {
   "cell_type": "code",
   "execution_count": 9,
   "metadata": {},
   "outputs": [
    {
     "name": "stdout",
     "output_type": "stream",
     "text": [
      "0.32421875\n",
      "1034\n"
     ]
    },
    {
     "data": {
      "text/plain": [
       "-2712.0"
      ]
     },
     "execution_count": 9,
     "metadata": {},
     "output_type": "execute_result"
    }
   ],
   "source": [
    "f = 2**-2 + 2**-4 + 2**-7 + 2**-8#'10010011'\n",
    "print(f)\n",
    "c = 2**1 + 2**3 + 2**10 #10000001110\n",
    "print(c)\n",
    "\n",
    "-(1+f)*2**(c-1023)"
   ]
  },
  {
   "cell_type": "code",
   "execution_count": 17,
   "metadata": {},
   "outputs": [
    {
     "name": "stdout",
     "output_type": "stream",
     "text": [
      "0.0625\n",
      "0.00390625\n",
      "31.0\n",
      "30\n",
      "0.0625\n"
     ]
    }
   ],
   "source": [
    "# HW4b.6. Toy Floating Point System\n",
    "n = 4\n",
    "L = -4\n",
    "U = 4\n",
    "# smallest positive normalized floating point number\n",
    "print( 1 * 2**L )\n",
    "# smallest positive subnormal floating point number\n",
    "print( 2**-n * 2**L )\n",
    "# largest positive normalized floating point number\n",
    "print( sum([2**(-i) for i in range(0,n+1)])*2**U )\n",
    "# How many additional numbers  (positive and negative, not including zero) \n",
    "# can be represented when using the subnormal representation\n",
    "print( 2*(2**n - 1) )   # not include 0 and -0\n",
    "# value of machine epsilon\n",
    "print( 2**(-n) )"
   ]
  },
  {
   "cell_type": "code",
   "execution_count": 19,
   "metadata": {},
   "outputs": [
    {
     "name": "stdout",
     "output_type": "stream",
     "text": [
      "2.220446049250313e-16\n",
      "Single precision machine eps = 1.1920928955078125e-07\n",
      "Double precision machine eps = 2.220446049250313e-16\n"
     ]
    }
   ],
   "source": [
    "# HW4b.7. Floating Point\n",
    "a=1\n",
    "while (a+2)>2:\n",
    "    a = a/2\n",
    "print(a)\n",
    "\n",
    "import numpy as np\n",
    "# Single Precision\n",
    "eps_single = np.finfo(np.float32).eps\n",
    "print(\"Single precision machine eps = {}\".format(eps_single))\n",
    "# Double Precision\n",
    "eps_double = np.finfo(np.float64).eps\n",
    "print(\"Double precision machine eps = {}\".format(eps_double))"
   ]
  },
  {
   "cell_type": "code",
   "execution_count": 25,
   "metadata": {},
   "outputs": [
    {
     "name": "stdout",
     "output_type": "stream",
     "text": [
      "65504.0\n",
      "6.103515625e-05\n",
      "2048\n"
     ]
    }
   ],
   "source": [
    "# HW4b.8. Properties of Half-Precision Floating Point\n",
    "n=10\n",
    "L=-14\n",
    "U=15\n",
    "\n",
    "# Largest\n",
    "OFL = 1*sum([2**(-i) for i in range(n+1)])*2**U\n",
    "print(OFL)\n",
    "\n",
    "# smallest positive normalized number\n",
    "UFL = 2**L\n",
    "print(UFL)\n",
    "\n",
    "# exactly representable\n",
    "k=2**(n+1)\n",
    "print(k)"
   ]
  },
  {
   "cell_type": "code",
   "execution_count": 33,
   "metadata": {},
   "outputs": [
    {
     "name": "stdout",
     "output_type": "stream",
     "text": [
      "88.49324583109743\n"
     ]
    }
   ],
   "source": [
    "# HW4b.9. Floating Point and Softmax\n",
    "\n",
    "z = [84.73106, 86.85979, 85.26436]\n",
    "OFL_single = np.finfo(np.float32).max\n",
    "z_0 = np.log(OFL_single-sum(np.exp(z)))\n",
    "print(z_0)"
   ]
  },
  {
   "cell_type": "code",
   "execution_count": 94,
   "metadata": {},
   "outputs": [
    {
     "name": "stdout",
     "output_type": "stream",
     "text": [
      "x 0.1328125\n",
      "integer2binary []\n",
      "fractional2binary [0, 0, 1, 0, 0, 0, 1]\n",
      "L [0 0 1 0 0 0 1]\n",
      "index_first_1 2\n",
      "f 00010000\n",
      "m -3\n"
     ]
    },
    {
     "data": {
      "text/plain": [
       "('00010000', -3)"
      ]
     },
     "execution_count": 94,
     "metadata": {},
     "output_type": "execute_result"
    }
   ],
   "source": [
    "# HW4b.10. Convert Decimal Number To Floating Point Number\n",
    "def decimal_to_floating_point(x, n, p):\n",
    "    \"\"\"\n",
    "    Convert a positive decimal number x into its normalized floating-point\n",
    "    form.\n",
    "    \n",
    "    Parameters\n",
    "    ----------\n",
    "    x: float\n",
    "        Input positive decimal number\n",
    "    n: int\n",
    "        Number of binary bits in fraction\n",
    "    p: int\n",
    "        Exponent range\n",
    "\n",
    "    Returns\n",
    "    -------\n",
    "    f: str\n",
    "        String of length n representing the fraction part of x in the given floating-point system\n",
    "    m: int\n",
    "        Exponent of x in the given floating-point system\n",
    "    \"\"\"\n",
    "\n",
    "    # your implementation goes here\n",
    "    print('x',x)\n",
    "    integer_part = x//1\n",
    "    fractional_part = x%1\n",
    "    \n",
    "    # convert integer part\n",
    "    integer2binary = []\n",
    "    while integer_part != 0:\n",
    "        res = int(integer_part%2)\n",
    "        integer_part = integer_part//2\n",
    "        integer2binary.append(res)\n",
    "    integer2binary.reverse()\n",
    "    print('integer2binary',integer2binary)\n",
    "    \n",
    "    # convert fractional part\n",
    "    fractional2binary = []\n",
    "    while fractional_part != 0:\n",
    "        fractional_part *= 2\n",
    "        if fractional_part >= 1:\n",
    "            fractional2binary.append(1)\n",
    "            fractional_part -= 1\n",
    "        else:\n",
    "            fractional2binary.append(0)\n",
    "    print('fractional2binary',fractional2binary)\n",
    "    \n",
    "    # find the index of first 1\n",
    "    import numpy as np\n",
    "    L = np.array(integer2binary + fractional2binary)\n",
    "    print('L',L)\n",
    "    index_first_1 = np.argwhere(L==1)[0][0] # find the index of first 1\n",
    "    print('index_first_1', index_first_1)\n",
    "    \n",
    "    L = (integer2binary + fractional2binary)[index_first_1+1:]  # shift to get f\n",
    "    # ensure the length of significant equals to n\n",
    "    if len(L) > n:\n",
    "        L = L[:n]\n",
    "    if len(L) < n:\n",
    "        L = L + [0 for _ in range(n-len(L))]\n",
    "    \n",
    "    # construct f from L\n",
    "    f = str()\n",
    "    for i in L:\n",
    "        f = f + str(i)\n",
    "    \n",
    "    m = len(integer2binary)-index_first_1-1\n",
    "    \n",
    "    print('f', f)\n",
    "    print('m', m)\n",
    "    return f, m\n",
    "\n",
    "decimal_to_floating_point(x=2**-3+2**-7, n=8, p=8)"
   ]
  }
 ],
 "metadata": {
  "kernelspec": {
   "display_name": "Python 3.7.4 ('base')",
   "language": "python",
   "name": "python3"
  },
  "language_info": {
   "codemirror_mode": {
    "name": "ipython",
    "version": 3
   },
   "file_extension": ".py",
   "mimetype": "text/x-python",
   "name": "python",
   "nbconvert_exporter": "python",
   "pygments_lexer": "ipython3",
   "version": "3.7.4"
  },
  "orig_nbformat": 4,
  "vscode": {
   "interpreter": {
    "hash": "7b34b089ce0dfc9935940e0a22050b2949fa617f7a2b73925623c261bed16aeb"
   }
  }
 },
 "nbformat": 4,
 "nbformat_minor": 2
}
