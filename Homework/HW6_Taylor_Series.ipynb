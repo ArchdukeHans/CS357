{
 "cells": [
  {
   "cell_type": "code",
   "execution_count": 1,
   "metadata": {},
   "outputs": [],
   "source": [
    "import numpy as np"
   ]
  },
  {
   "cell_type": "markdown",
   "metadata": {},
   "source": [
    "# L6.7. Taylor Series Approximation\n",
    "\n",
    "Use a Taylor approximation of degree $5$ about point $c=c$ to approximate $g(x)=sin(x)$."
   ]
  },
  {
   "cell_type": "code",
   "execution_count": 12,
   "metadata": {},
   "outputs": [
    {
     "name": "stdout",
     "output_type": "stream",
     "text": [
      "5.5189741665628844e-12\n",
      "1.867545447708597e-11\n",
      "1.5500795091938357e-13\n",
      "3.101451128166776e-12\n"
     ]
    }
   ],
   "source": [
    "c = 0.25\n",
    "x = 0.3\n",
    "approx = sum([\n",
    "    np.sin(c),\n",
    "    np.cos(c) * (x-c), \n",
    "    -np.sin(c)/2 * (x-c)**2,\n",
    "    -np.cos(c)/(3*2) * (x-c)**3, \n",
    "    np.sin(c)/(4*3*2) * (x-c)**4, \n",
    "    np.cos(c)/(5*4*3*2) * (x-c)**5\n",
    "    # -np.sin(c)/(6*5*4*3*2) * (x-c)**6\n",
    "])\n",
    "real = np.sin(x)\n",
    "\n",
    "abs_error = abs(approx - real)\n",
    "print(abs_error)\n",
    "\n",
    "rel_error = abs(approx - real)/real\n",
    "print(rel_error)\n",
    "\n",
    "c = 0.0\n",
    "x = 0.05\n",
    "\n",
    "approx = sum([\n",
    "    np.sin(c),\n",
    "    np.cos(c) * (x-c), \n",
    "    -np.sin(c)/2 * (x-c)**2,\n",
    "    -np.cos(c)/(3*2) * (x-c)**3, \n",
    "    np.sin(c)/(4*3*2) * (x-c)**4, \n",
    "    np.cos(c)/(5*4*3*2) * (x-c)**5\n",
    "])\n",
    "real = np.sin(x)\n",
    "\n",
    "abs_error = abs(approx - real)\n",
    "print(abs_error)\n",
    "\n",
    "rel_error = abs(approx - real)/real\n",
    "print(rel_error)"
   ]
  },
  {
   "cell_type": "code",
   "execution_count": 15,
   "metadata": {},
   "outputs": [
    {
     "name": "stdout",
     "output_type": "stream",
     "text": [
      "0.00967995396436061\n",
      "0.014440794396063683\n"
     ]
    }
   ],
   "source": [
    "# HW6.2. Taylor Series Error\n",
    "c = 0.0\n",
    "x = 0.2\n",
    "# f(x) = e**(-2x)\n",
    "approx = sum([\n",
    "    np.e**(-2*c),\n",
    "    (-2) * np.e**(-2*c) * (x-c),\n",
    "    (-2)**2 *np.e**(-2*c)/2 * (x-c)**2\n",
    "])\n",
    "real = np.e**(-2*x)\n",
    "\n",
    "abs_error = abs(approx - real)\n",
    "print(abs_error)\n",
    "\n",
    "rel_error = abs(approx - real)/real\n",
    "print(rel_error)"
   ]
  },
  {
   "cell_type": "code",
   "execution_count": 18,
   "metadata": {},
   "outputs": [
    {
     "name": "stdout",
     "output_type": "stream",
     "text": [
      "278\n"
     ]
    }
   ],
   "source": [
    "# HW6.3. Taylor Series approximation\n",
    "# f(x) = 5*x**3 + 2*x**2 + 3*x + 4\n",
    "# Use the degree-3 Taylor expansion to approximate the value of f(x) at x = 4\n",
    "approx = 3*4**3 + 4*4**2 + 5*4 + 2\n",
    "print(approx)\n",
    "\n",
    "# The Taylor series of a polynomial is just the polynomial itself. \n",
    "# Just drop any terms of degree higher than 3."
   ]
  },
  {
   "cell_type": "code",
   "execution_count": 42,
   "metadata": {},
   "outputs": [
    {
     "name": "stdout",
     "output_type": "stream",
     "text": [
      "N_cutoff 6\n"
     ]
    },
    {
     "data": {
      "image/png": "[encoded data removed]",
      "text/plain": [
       "<Figure size 432x288 with 1 Axes>"
      ]
     },
     "metadata": {
      "needs_background": "light"
     },
     "output_type": "display_data"
    }
   ],
   "source": [
    "# HW6.9. Approximation of an Infinite Series\n",
    "\n",
    "\n",
    "import numpy as np\n",
    "import matplotlib.pyplot as plt\n",
    "\n",
    "x = 1.0\n",
    "desired_rel_error = 0.0001\n",
    "N = 9\n",
    "\n",
    "exp_approx = np.zeros(10)\n",
    "abs_error = np.zeros(10)\n",
    "rel_error = np.zeros(10)\n",
    "N_cutoff = 0\n",
    "\n",
    "# Part 1\n",
    "from math import factorial\n",
    "def exp(x,N):\n",
    "    result = 0\n",
    "    for n in range(N+1):\n",
    "        result += x**n / factorial(n)\n",
    "    return result\n",
    "\n",
    "for n in range(N+1):\n",
    "    exp_approx[n] = exp(x,n)\n",
    "\n",
    "# Part 2\n",
    "exp_real = np.array([np.e**x] * (N+1))\n",
    "abs_error = np.absolute(exp_real - exp_approx)\n",
    "rel_error = np.absolute(exp_real - exp_approx)/exp_real\n",
    "\n",
    "N_cutoff = np.argwhere(rel_error < desired_rel_error).item(0)\n",
    "\n",
    "# Save plot for grading\n",
    "plt.figure()\n",
    "plt.semilogy(range(N+1), rel_error)\n",
    "plt.title('relative error vs. N')\n",
    "plt.ylabel('relative error in log-scale')\n",
    "plt.xlabel('N')\n",
    "plot = plt.gca()"
   ]
  },
  {
   "cell_type": "code",
   "execution_count": null,
   "metadata": {},
   "outputs": [],
   "source": [
    "# HW6.10. Approximation of an Infinite Series\n",
    "\n",
    "from math import sin\n",
    "from math import cos\n",
    "from math import pi\n",
    "\n",
    "# n = 1 and n = 3 Taylor series expansions of sin(x) about x_0 = 0 evaluated at hat(x) = 0.7\n",
    "x_hat = 0.7\n",
    "x = 0\n",
    "approx_0_1 = sin(x) + cos(x)*(x_hat-x)\n",
    "approx_0_3 = sin(x) + cos(x)*(x_hat-x) - sin(x)/2*(x_hat-x)**2 - cos(x)/(3*2)*(x_hat-x)**3\n",
    "\n",
    "# n = 3 Taylor series expansions of sin(x) about x_0 = pi/4 evaluated at hat(x) = 0.7\n",
    "x = pi/4\n",
    "approx_pi4_3 = sin(x) + cos(x)*(x_hat-x) - sin(x)/2*(x_hat-x)**2 - cos(x)/(3*2)*(x_hat-x)**3\n",
    "\n",
    "real = sin(x_hat)\n",
    "\n",
    "err_0_1 = abs((approx_0_1-real)/real)\n",
    "err_0_3 = abs((approx_0_3-real)/real)\n",
    "err_pi4_3 = abs((approx_pi4_3-real)/real)"
   ]
  }
 ],
 "metadata": {
  "kernelspec": {
   "display_name": "Python 3.7.4 ('base')",
   "language": "python",
   "name": "python3"
  },
  "language_info": {
   "codemirror_mode": {
    "name": "ipython",
    "version": 3
   },
   "file_extension": ".py",
   "mimetype": "text/x-python",
   "name": "python",
   "nbconvert_exporter": "python",
   "pygments_lexer": "ipython3",
   "version": "3.7.4"
  },
  "orig_nbformat": 4,
  "vscode": {
   "interpreter": {
    "hash": "7b34b089ce0dfc9935940e0a22050b2949fa617f7a2b73925623c261bed16aeb"
   }
  }
 },
 "nbformat": 4,
 "nbformat_minor": 2
}
