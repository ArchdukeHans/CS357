{
 "cells": [
  {
   "cell_type": "code",
   "execution_count": 1,
   "metadata": {},
   "outputs": [],
   "source": [
    "import numpy as np"
   ]
  },
  {
   "cell_type": "code",
   "execution_count": 5,
   "metadata": {},
   "outputs": [
    {
     "name": "stdout",
     "output_type": "stream",
     "text": [
      "[1, 0, 1]\n"
     ]
    }
   ],
   "source": [
    "# HW7.2. Linear Congruential Generators\n",
    "\n",
    "a=4; c=1; m=5\n",
    "seed = 1\n",
    "x = []\n",
    "\n",
    "x.append(seed)\n",
    "x.append((a*seed + c) % m)\n",
    "while x[-1] != seed:\n",
    "    x.append( (a*x[-1] + c) % m )\n",
    "print(x)\n"
   ]
  },
  {
   "cell_type": "code",
   "execution_count": 7,
   "metadata": {},
   "outputs": [
    {
     "name": "stdout",
     "output_type": "stream",
     "text": [
      "1\n"
     ]
    }
   ],
   "source": [
    "# HW7.5. Monte Carlo Estimation\n",
    "points = [(0,0,1),(0,np.pi/2,1),(0.6,np.pi/8,0.5),(0.1,0.6,0.5)]\n",
    "counter = 0\n",
    "for point in points:\n",
    "    x,y,z = point\n",
    "    if(\n",
    "        (0<=x<=1 and 0<=y<=1 and 0<=z<=1) and\n",
    "        (x**2 + np.sin(y) <= z) and\n",
    "        (x-z+np.e**y <=1)\n",
    "    ):\n",
    "        counter += 1\n",
    "print(counter)"
   ]
  },
  {
   "cell_type": "code",
   "execution_count": 13,
   "metadata": {},
   "outputs": [
    {
     "name": "stdout",
     "output_type": "stream",
     "text": [
      "3.03 2.97\n"
     ]
    }
   ],
   "source": [
    "# HW7.7. Monte Carlo Error Practice\n",
    "\n",
    "# Error of Monte Carlo proportional to 1/sqrt(N)\n",
    "samples  = 100\n",
    "abs_error = 3\n",
    "new_samples = 1000000\n",
    "\n",
    "student_samples = 100\n",
    "\n",
    "upper_bound = abs_error + abs_error*np.sqrt(samples/new_samples)\n",
    "lower_bound = abs_error - abs_error*np.sqrt(samples/new_samples)\n",
    "print(upper_bound,lower_bound)"
   ]
  },
  {
   "cell_type": "code",
   "execution_count": 15,
   "metadata": {},
   "outputs": [
    {
     "name": "stdout",
     "output_type": "stream",
     "text": [
      "1e+16\n"
     ]
    }
   ],
   "source": [
    "# HW7.8. Monte Carlo convergence\n",
    "\n",
    "# Error(N) = C/sqrt(N) -> C = Error(N)*sqrt(N)\n",
    "\n",
    "error_now = 10**(-1)\n",
    "error_target = 10**(-6)\n",
    "\n",
    "points_now = 1000000\n",
    "points_target = (error_now*np.sqrt(points_now)/error_target)**2\n",
    "\n",
    "print(points_target)"
   ]
  },
  {
   "cell_type": "code",
   "execution_count": 25,
   "metadata": {},
   "outputs": [
    {
     "name": "stdout",
     "output_type": "stream",
     "text": [
      "[4.       3.2      2.96     3.148    3.1516   3.14212  3.140608]\n"
     ]
    },
    {
     "data": {
      "image/png": "[encoded data removed]",
      "text/plain": [
       "<Figure size 432x288 with 1 Axes>"
      ]
     },
     "metadata": {
      "needs_background": "light"
     },
     "output_type": "display_data"
    }
   ],
   "source": [
    "# HW7.9. Calculating pi using Monte Carlo\n",
    "\n",
    "# Input:\n",
    "xs = np.random.rand(10**6)\n",
    "ys = np.random.rand(10**6)\n",
    "# print(xs[:10].shape[0])\n",
    "\n",
    "import numpy as np\n",
    "import matplotlib.pyplot as plt\n",
    "\n",
    "# Part I\n",
    "def calculate_pi(x, y):\n",
    "    N = x.shape[0]\n",
    "    r = 1.0\n",
    "    pi = 4/N * np.sum( (x**2 + y**2) <= r**2)\n",
    "    return pi\n",
    "\n",
    "# Part II\n",
    "pi = []\n",
    "N = [10**n for n in range(7)]\n",
    "for n in N:\n",
    "    x = xs[:n]\n",
    "    y = ys[:n]\n",
    "    pi.append(calculate_pi(x,y))\n",
    "pi = np.array(pi)\n",
    "print(pi)\n",
    "\n",
    "error = abs(pi - np.pi)\n",
    "# Save plot for grading\n",
    "plt.figure()\n",
    "plt.title('loglog plot of error vs. n')\n",
    "plt.loglog(N, error)\n",
    "plt.xlabel('n')\n",
    "plt.ylabel('error')\n",
    "plot = plt.gca()"
   ]
  },
  {
   "cell_type": "code",
   "execution_count": 46,
   "metadata": {},
   "outputs": [
    {
     "name": "stdout",
     "output_type": "stream",
     "text": [
      "23\n"
     ]
    },
    {
     "data": {
      "image/png": "[encoded data removed]",
      "text/plain": [
       "<Figure size 432x288 with 1 Axes>"
      ]
     },
     "metadata": {
      "needs_background": "light"
     },
     "output_type": "display_data"
    }
   ],
   "source": [
    "# HW7.10. The Birthday Problem\n",
    "\n",
    "import numpy as np\n",
    "import matplotlib\n",
    "import matplotlib.pyplot as plt\n",
    "\n",
    "def genroom(n):\n",
    "    return np.random.randint(1,366, n)\n",
    "\n",
    "def duplicate_birthdays(n):\n",
    "    # Generate 1000 simulations of rooms (with the birthdays of n people in each room)\n",
    "    # Compute the number of rooms with duplicate birthdays.\n",
    "    # Returns the number of rooms with duplicate birthdays\n",
    "    num = 0\n",
    "    for _ in range(1000):\n",
    "        room = genroom(n)\n",
    "        room = np.sort(room)\n",
    "        for index, birthday in enumerate(room):\n",
    "            if birthday == room[(index+1)%n]:\n",
    "                num += 1\n",
    "                break\n",
    "    return num\n",
    "\n",
    "# Part 1\n",
    "prob_n = []\n",
    "for n in range(2,101):\n",
    "    # call function duplicate_birthdays(n)\n",
    "    # update the array prob_n\n",
    "    prob_n.append(duplicate_birthdays(n)/1000)\n",
    "prob_n = np.array(prob_n)\n",
    "\n",
    "# Part 2\n",
    "# Estimate perc_50\n",
    "try:\n",
    "    perc_50 = np.argwhere(prob_n > 0.5).item(0)+2 # prob_n start with n=2\n",
    "    print(perc_50)\n",
    "except:\n",
    "    perc_50 = None\n",
    "    print(perc_50)\n",
    "\n",
    "# Part 3\n",
    "# Plot prob_n\n",
    "plt.figure()\n",
    "plt.plot(range(2,101), prob_n)\n",
    "# plt.plot(perc_50,prob_n[perc_50-1],'.') # print the perc_50 in the figure\n",
    "plt.xlabel(n)\n",
    "plt.ylabel('prob_n')\n",
    "plt.title('prob_n vs. n')\n",
    "# Save plot for grading\n",
    "plot = plt.gca()"
   ]
  },
  {
   "cell_type": "code",
   "execution_count": 62,
   "metadata": {},
   "outputs": [
    {
     "name": "stdout",
     "output_type": "stream",
     "text": [
      "0.19733333333333292\n"
     ]
    }
   ],
   "source": [
    "# HW7.11. Calculating a Volume of Intersection\n",
    "\n",
    "import numpy as np\n",
    "\n",
    "## Part 1\n",
    "def insideCylinders(pos,r):\n",
    "    x, y, z = pos\n",
    "    # Return true if the point is inside the Steinmetz solid\n",
    "    # write some code here\n",
    "    if ((y**2 + z**2 <= r**2) and (x**2 + y**2 <= r**2)):\n",
    "        return True\n",
    "    else:\n",
    "        return False\n",
    "\n",
    "## Part 2\n",
    "def prob_inside_volume(N,r):\n",
    "    # Calculate the probability that any point is inside the Steinmetz solid\n",
    "    random_samples = np.random.rand(N,3) * (2*r) - r    # range from -r to r\n",
    "    num_inside_volume = 0\n",
    "    for point in random_samples:\n",
    "        if insideCylinders(point, r):\n",
    "            num_inside_volume += 1\n",
    "    prob = num_inside_volume/N\n",
    "    return prob\n",
    "\n",
    "\"\"\"\n",
    "def prob_inside_volume(N,r):\n",
    "    x = np.random.rand(N)*2*r-r\n",
    "    y = np.random.rand(N)*2*r-r\n",
    "    z = np.random.rand(N)*2*r-r\n",
    "    point = (((x**2+y**2) <= r*r) & ((z**2+y**2) <= r*r))\n",
    "    count_point = point.sum()\n",
    "    return count_point/N\n",
    "\"\"\"\n",
    "\n",
    "## Part 3\n",
    "N = 1000\n",
    "r = 1\n",
    "# Determine approximated volume\n",
    "volume_approx = prob_inside_volume(N,r) * (2*r)**3\n",
    "\n",
    "# Use reference volume to double check answer.\n",
    "reference_volume = 16/3*r**3\n",
    "abs_error = abs(volume_approx-reference_volume)\n",
    "print(abs_error)"
   ]
  },
  {
   "cell_type": "code",
   "execution_count": 14,
   "metadata": {},
   "outputs": [
    {
     "data": {
      "text/plain": [
       "0.651"
      ]
     },
     "execution_count": 14,
     "metadata": {},
     "output_type": "execute_result"
    }
   ],
   "source": [
    "import numpy as np\n",
    "def prob_inside_volume(N,r):\n",
    "    x = np.random.rand(N)*2*r-r\n",
    "    y = np.random.rand(N)*2*r-r\n",
    "    z = np.random.rand(N)*2*r-r\n",
    "    point = (((x**2+y**2) <= r*r) & ((z**2+y**2) <= r*r))\n",
    "    count_point = point.sum()\n",
    "    return count_point/N\n",
    "\n",
    "prob_inside_volume(1000,2)"
   ]
  }
 ],
 "metadata": {
  "kernelspec": {
   "display_name": "Python 3.7.4 ('base')",
   "language": "python",
   "name": "python3"
  },
  "language_info": {
   "codemirror_mode": {
    "name": "ipython",
    "version": 3
   },
   "file_extension": ".py",
   "mimetype": "text/x-python",
   "name": "python",
   "nbconvert_exporter": "python",
   "pygments_lexer": "ipython3",
   "version": "3.7.4"
  },
  "orig_nbformat": 4,
  "vscode": {
   "interpreter": {
    "hash": "7b34b089ce0dfc9935940e0a22050b2949fa617f7a2b73925623c261bed16aeb"
   }
  }
 },
 "nbformat": 4,
 "nbformat_minor": 2
}
