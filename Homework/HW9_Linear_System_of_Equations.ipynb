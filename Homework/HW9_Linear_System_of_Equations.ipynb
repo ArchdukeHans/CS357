{
 "cells": [
  {
   "cell_type": "code",
   "execution_count": 1,
   "metadata": {},
   "outputs": [],
   "source": [
    "import numpy as np"
   ]
  },
  {
   "cell_type": "code",
   "execution_count": 5,
   "metadata": {},
   "outputs": [
    {
     "name": "stdout",
     "output_type": "stream",
     "text": [
      "[18.  7.  8.]\n"
     ]
    }
   ],
   "source": [
    "A = np.array([\n",
    "    [2, 2, 0],\n",
    "    [0, 3, 0],\n",
    "    [2,0,5]\n",
    "])\n",
    "\n",
    "b = np.array([50,21,76])\n",
    "\n",
    "x = np.linalg.solve(A, b)\n",
    "print(x)"
   ]
  },
  {
   "cell_type": "code",
   "execution_count": 7,
   "metadata": {},
   "outputs": [
    {
     "data": {
      "text/plain": [
       "75.0"
      ]
     },
     "execution_count": 7,
     "metadata": {},
     "output_type": "execute_result"
    }
   ],
   "source": [
    "3125/(5**3)+50*25/(5**2)"
   ]
  },
  {
   "cell_type": "code",
   "execution_count": 36,
   "metadata": {},
   "outputs": [],
   "source": [
    "# HW9.11. Investigating Power Usage\n",
    "# Input \n",
    "test_data = {'Test0': [('Speaker', 0.31220352614461633), ('EnergyConsumed', 1.7231508712971904), ('Screen', 0.06799967061153867), ('Microphone', 0.21922735828101902), ('Microchip0', 0.6538424388765273), ('Microchip1', 0.7474800719940207), ('LED1', 0.9626427515168341), ('Converter', 0.33094808556288846), ('FPU', 0.35931458496585555), ('Buzzer', 0.8980602658349052), ('LED0', 0.029039279232270565)], 'Test1': [('Microchip1', 0.2729568929373567), ('LED0', 0.26137964525503143), ('Screen', 0.39003954973675725), ('Microchip0', 0.2439782581086143), ('Speaker', 0.8709820641641628), ('Buzzer', 0.44424206537065136), ('EnergyConsumed', 1.5164990333859572), ('FPU', 0.45165903276540476), ('Microphone', 0.08415066701266072), ('LED1', 0.7084134754973923), ('Converter', 0.1269660948965371)], 'Test2': [('Microphone', 0.11746712270753357), ('FPU', 0.9136801344086612), ('Screen', 0.5833531869961188), ('EnergyConsumed', 1.5354138452064996), ('Converter', 0.6803602162321359), ('LED0', 0.1773054140041137), ('Microchip1', 0.4247894055733338), ('LED1', 0.8000171864780069), ('Speaker', 0.3419860322849766), ('Microchip0', 0.298744491514487), ('Buzzer', 0.26585145911887753)], 'Test3': [('EnergyConsumed', 2.754359398677471), ('Microchip1', 0.19701147027611365), ('Speaker', 0.811363583761074), ('Microchip0', 0.6534390066314527), ('Screen', 0.40508920499611023), ('Converter', 0.604106964666839), ('Microphone', 0.9329728714206776), ('Buzzer', 0.3992117153079138), ('LED0', 0.8465362308227506), ('FPU', 0.24250147197665473), ('LED1', 0.5085044114461769)], 'Test4': [('Buzzer', 0.028743426851202236), ('Microphone', 0.4873287062552736), ('Microchip1', 0.3339328396486687), ('LED0', 0.859523762310799), ('Screen', 0.3344596747945471), ('Microchip0', 0.1974026989878731), ('FPU', 0.2496946085771824), ('Converter', 0.40798404776992936), ('EnergyConsumed', 1.9607328675910645), ('LED1', 0.1394061160268032), ('Speaker', 0.8666463124360446)], 'Test5': [('Speaker', 0.0689029876540076), ('FPU', 0.14159955291835613), ('Microphone', 0.607399777760185), ('LED0', 0.19019811957749522), ('Microchip0', 0.7602017426506593), ('Microchip1', 0.7797458981641248), ('EnergyConsumed', 1.642255479752483), ('LED1', 0.6775119837501881), ('Buzzer', 0.15859329539924005), ('Converter', 0.6717440290797358), ('Screen', 0.06543901853254264)], 'Test6': [('Microchip0', 0.3146451007818448), ('Speaker', 0.7327123037741617), ('LED0', 0.41149855999060125), ('Microchip1', 0.887946876792504), ('FPU', 0.8824783554881173), ('LED1', 0.1723030406386954), ('Screen', 0.9634196695615832), ('Converter', 0.8348412901264043), ('EnergyConsumed', 2.7957778578353447), ('Buzzer', 0.35076425505888875), ('Microphone', 0.917987523489469)], 'Test7': [('Buzzer', 0.014479810447480146), ('LED0', 0.07893930844132668), ('EnergyConsumed', 1.4693664502076842), ('Converter', 0.711381877234091), ('Speaker', 0.2997380329186543), ('FPU', 0.40807067269543795), ('Microchip1', 0.3812607187782674), ('Microchip0', 0.17328705578621428), ('Microphone', 0.8052528726110441), ('LED1', 0.4228420121296028), ('Screen', 0.5590901967973554)], 'Test8': [('Microchip1', 0.22657941598038223), ('Screen', 0.7276151195642594), ('FPU', 0.08834838038032067), ('EnergyConsumed', 2.579946160226374), ('Microchip0', 0.9504094091137867), ('Microphone', 0.12325551983820526), ('LED1', 0.0884491098342769), ('Buzzer', 0.8706139024307002), ('Converter', 0.8268862773364063), ('Speaker', 0.0410791576523053), ('LED0', 0.9213154113697862)], 'Test9': [('EnergyConsumed', 1.9979641729191562), ('LED0', 0.5724054849800272), ('Screen', 0.1633695204043667), ('Speaker', 0.3367300437845603), ('Buzzer', 0.14595626636465564), ('FPU', 0.6588118973737855), ('Converter', 0.9862347235887554), ('Microchip1', 0.8391917764587681), ('Microphone', 0.052107150756315446), ('Microchip0', 0.8680794122731669), ('LED1', 0.7116744771304777)]}\n",
    "components = ['Microphone', 'Screen', 'FPU', 'LED0', 'LED1', 'Converter', 'Speaker', 'Buzzer', 'Microchip0', 'Microchip1']\n",
    "\n",
    "# Start Here\n",
    "import numpy as np\n",
    "EnergyConsumed = []\n",
    "RunTimes = {component:[] for component in components}\n",
    "for key, item in test_data.items():\n",
    "    for i in range(len(item)):\n",
    "        Name = item[i][0]\n",
    "        Data = item[i][1]\n",
    "        if Name == 'EnergyConsumed':\n",
    "            EnergyConsumed.append(Data)\n",
    "        else:\n",
    "            RunTimes[Name].append(Data)\n",
    "EnergyConsumed = np.array(EnergyConsumed)\n",
    "\n",
    "A = [RunTime for key, RunTime in RunTimes.items()]\n",
    "A = np.array(A).T\n",
    "\n",
    "power_usage = np.linalg.solve(A, EnergyConsumed)"
   ]
  },
  {
   "cell_type": "code",
   "execution_count": 41,
   "metadata": {},
   "outputs": [],
   "source": [
    "# HW9.12. Predict Popularity\n",
    "\n",
    "# Input \n",
    "n = 4\n",
    "m = 9\n",
    "k = 13\n",
    "def get_friend_prefs(i):\n",
    "    return [9, 5, 6, 5, 5, 8, 4, 5, 4]\n",
    "\n",
    "def get_movie_attr(j):\n",
    "    return [0.18071717, 0.10226599, 0.1817738,8, 0.1335838,  0.13039058, 0.0403825, 0.18244479, 0.0011643,  0.04727699]\n",
    "\n",
    "# Start Here\n",
    "import numpy as np\n",
    "\n",
    "def r(m, p, a):\n",
    "    return 1/m*sum([p[i]*a[i] for i in range(m)])\n",
    "\n",
    "max_rateing = -np.inf\n",
    "top = -1\n",
    "ratings = np.zeros(k)\n",
    "for index_movie in range(k):\n",
    "    rating = 0\n",
    "    for index_friend in range(n):\n",
    "        rating += r(m, get_friend_prefs(index_friend), get_movie_attr(index_movie))\n",
    "    ratings[index_movie] = rating\n",
    "    \n",
    "    if rating>max_rateing:\n",
    "        max_rateing = rating\n",
    "        top = index_movie\n"
   ]
  }
 ],
 "metadata": {
  "kernelspec": {
   "display_name": "Python 3.7.4 ('base')",
   "language": "python",
   "name": "python3"
  },
  "language_info": {
   "codemirror_mode": {
    "name": "ipython",
    "version": 3
   },
   "file_extension": ".py",
   "mimetype": "text/x-python",
   "name": "python",
   "nbconvert_exporter": "python",
   "pygments_lexer": "ipython3",
   "version": "3.7.4"
  },
  "orig_nbformat": 4,
  "vscode": {
   "interpreter": {
    "hash": "7b34b089ce0dfc9935940e0a22050b2949fa617f7a2b73925623c261bed16aeb"
   }
  }
 },
 "nbformat": 4,
 "nbformat_minor": 2
}
