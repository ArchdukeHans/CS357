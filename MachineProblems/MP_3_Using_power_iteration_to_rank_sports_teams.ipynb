{
 "cells": [
  {
   "cell_type": "code",
   "execution_count": null,
   "metadata": {},
   "outputs": [],
   "source": [
    "# MP 3.2. Ranking NBA teams using PageRank\n",
    "\n",
    "import numpy as np\n",
    "# input\n",
    "home_team = np.array([\"Los Angeles Lakers\"])\n",
    "away_team = np.array([\"Boston Celtics\"])\n",
    "home_score = np.array([122])\n",
    "away_score = np.array([97])\n",
    "\n",
    "# start here\n",
    "import numpy as np\n",
    "\n",
    "team_names = [ ]    # list team names here\n",
    "team_names_dict = {}\n",
    "index = 0\n",
    "for team_name in home_team:\n",
    "    if team_name not in team_names:\n",
    "        team_names.append(team_name)\n",
    "        team_names_dict[team_name] = index\n",
    "        index += 1\n",
    "for team_name in away_team:\n",
    "    if team_name not in team_names:\n",
    "        team_names.append(team_name)\n",
    "        team_names_dict[team_name] = index\n",
    "        index += 1\n",
    "n = len(team_names)\n",
    "\n",
    "A = np.zeros((n,n))   # the rows and columns should have the same order as your team_names\n",
    "for index in range(len(home_team)):\n",
    "    name_h = home_team[index]\n",
    "    name_a = away_team[index]\n",
    "    score_h = home_score[index]\n",
    "    score_a = away_score[index]\n",
    "    i = team_names_dict[name_h]\n",
    "    j = team_names_dict[name_a]\n",
    "    A[i,j] += max(0, score_h-score_a)\n",
    "    A[j,i] += max(0, score_a-score_h)\n",
    "\n"
   ]
  },
  {
   "cell_type": "code",
   "execution_count": null,
   "metadata": {},
   "outputs": [],
   "source": [
    "# MP 3.3. Constructing the Transition Matrix\n",
    "import numpy as np\n",
    "\n",
    "def transition(A):\n",
    "    # construct the matrix M\n",
    "    M = np.zeros_like(A)\n",
    "    for col in range(M.shape[1]):\n",
    "        col_sum = np.sum(A[:,col])\n",
    "        if col_sum == 0:\n",
    "            M[:,col] =np.ones(M.shape[1])/M.shape[1]\n",
    "        else:\n",
    "            M[:,col] = A[:,col]/col_sum\n",
    "    return M\n",
    "\n",
    "M = transition(A)"
   ]
  },
  {
   "cell_type": "code",
   "execution_count": null,
   "metadata": {},
   "outputs": [],
   "source": [
    "# MP 3.4. Power Iteration\n",
    "\n",
    "tol = 1e-12\n",
    "\n",
    "# start here\n",
    "import numpy as np\n",
    "import scipy.linalg as la\n",
    "\n",
    "def power_iteration(M,tol):\n",
    "    # compute things!\n",
    "    p = 1\n",
    "    x_k = np.random.rand(M.shape[0])\n",
    "    x_k = x_k/la.norm(x_k,p)\n",
    "    while True:\n",
    "        y_k = M@x_k\n",
    "        x_k_1 = y_k/la.norm(y_k,p)\n",
    "        e = la.norm(x_k_1-x_k, 2)\n",
    "        if e<tol:\n",
    "            break\n",
    "        x_k = x_k_1\n",
    "    return x_k\n",
    "    \n",
    "xstar = power_iteration(M,tol)"
   ]
  },
  {
   "cell_type": "code",
   "execution_count": null,
   "metadata": {},
   "outputs": [],
   "source": [
    "# MP 3.5. Rank basketball teams!\n",
    "import numpy as np\n",
    "import matplotlib.pyplot as plt\n",
    "\n",
    "team_ranks = []\n",
    "xstar = power_iteration(M,tol)\n",
    "sort_index = np.argsort(xstar)[::-1]\n",
    "for index in sort_index:\n",
    "    team_ranks.append(team_names[index])\n",
    "## Horizontal bar plot for the percentage of fan support for each team\n",
    "## (following the order of team_ranks - \"best\" to \"worst\" team)\n",
    "bar_height = xstar[sort_index]\n",
    "y_label = team_ranks\n",
    "\n",
    "\n",
    "f, axs = plt.subplots(1,1,figsize=(8,10))\n",
    "plt.subplots_adjust(left=0.25)\n",
    "y_axis = range(len(team_ranks))\n",
    "plt.barh(y_axis, bar_height)\n",
    "plt.yticks(y_axis, y_label)\n",
    "plt.title(season_name + ' season NBA teams ranking based on first 150 games')\n",
    "axs.invert_yaxis()"
   ]
  },
  {
   "cell_type": "code",
   "execution_count": null,
   "metadata": {},
   "outputs": [],
   "source": [
    "# MP 3.6. Rank soccer teams!\n",
    "\n",
    "# Simply run the given code.\n"
   ]
  }
 ],
 "metadata": {
  "kernelspec": {
   "display_name": "Python 3.7.4 ('base')",
   "language": "python",
   "name": "python3"
  },
  "language_info": {
   "codemirror_mode": {
    "name": "ipython",
    "version": 3
   },
   "file_extension": ".py",
   "mimetype": "text/x-python",
   "name": "python",
   "nbconvert_exporter": "python",
   "pygments_lexer": "ipython3",
   "version": "3.7.4"
  },
  "orig_nbformat": 4,
  "vscode": {
   "interpreter": {
    "hash": "7b34b089ce0dfc9935940e0a22050b2949fa617f7a2b73925623c261bed16aeb"
   }
  }
 },
 "nbformat": 4,
 "nbformat_minor": 2
}
